{
 "cells": [
  {
   "cell_type": "markdown",
   "metadata": {},
   "source": [
    "# Question 2\n",
    "- Under package Gutenberg get content from file 'melville-moby_dick.txt.'\n",
    "- Find out frequency of 26 characters. (Turn uppercase into lowercase and count as one character)\n",
    "- List all 26 characters in order base on their frequency. (From most frequent to least frequent)"
   ]
  },
  {
   "cell_type": "code",
   "execution_count": 1,
   "metadata": {
    "collapsed": true
   },
   "outputs": [],
   "source": [
    "import nltk"
   ]
  },
  {
   "cell_type": "code",
   "execution_count": 5,
   "metadata": {
    "collapsed": false
   },
   "outputs": [],
   "source": [
    "raw_txt = nltk.corpus.gutenberg.raw('melville-moby_dick.txt')"
   ]
  },
  {
   "cell_type": "code",
   "execution_count": 6,
   "metadata": {
    "collapsed": false
   },
   "outputs": [
    {
     "name": "stdout",
     "output_type": "stream",
     "text": [
      "Frequency of 26 characters: {'l': 41893, 'n': 64431, 'b': 15451, 'r': 51311, 'm': 22525, 'x': 1007, 'v': 8427, 'h': 61434, 's': 62022, 'p': 16207, 'g': 20180, 'c': 21360, 'a': 75266, 'f': 20029, 'i': 61891, 'y': 16542, 'w': 20917, 't': 85539, 'e': 115855, 'k': 7882, 'o': 68338, 'd': 37468, 'u': 26457, 'q': 1234, 'j': 829}\n"
     ]
    }
   ],
   "source": [
    "import string\n",
    "alpha_list = list(string.ascii_lowercase) #get the list of 26 characters\n",
    "freq_dict = {alpha_list[i]:0 for i in range(0,25)}\n",
    "for char in raw_txt:\n",
    "    if char in freq_dict:\n",
    "        freq_dict[char] += 1 #add each character into the dictionary\n",
    "print('Frequency of 26 characters:', freq_dict)"
   ]
  },
  {
   "cell_type": "code",
   "execution_count": 7,
   "metadata": {
    "collapsed": false
   },
   "outputs": [
    {
     "name": "stdout",
     "output_type": "stream",
     "text": [
      "26 characters sorted based on their frequency:\n",
      "e 115855\n",
      "t 85539\n",
      "a 75266\n",
      "o 68338\n",
      "n 64431\n",
      "s 62022\n",
      "i 61891\n",
      "h 61434\n",
      "r 51311\n",
      "l 41893\n",
      "d 37468\n",
      "u 26457\n",
      "m 22525\n",
      "c 21360\n",
      "w 20917\n",
      "g 20180\n",
      "f 20029\n",
      "y 16542\n",
      "p 16207\n",
      "b 15451\n",
      "v 8427\n",
      "k 7882\n",
      "q 1234\n",
      "x 1007\n",
      "j 829\n"
     ]
    }
   ],
   "source": [
    "print('26 characters sorted based on their frequency:')\n",
    "for sorted_char in sorted(freq_dict, key = freq_dict.get, reverse = True):\n",
    "    print(sorted_char, freq_dict[sorted_char])"
   ]
  }
 ],
 "metadata": {
  "anaconda-cloud": {},
  "kernelspec": {
   "display_name": "Python [conda root]",
   "language": "python",
   "name": "conda-root-py"
  },
  "language_info": {
   "codemirror_mode": {
    "name": "ipython",
    "version": 3
   },
   "file_extension": ".py",
   "mimetype": "text/x-python",
   "name": "python",
   "nbconvert_exporter": "python",
   "pygments_lexer": "ipython3",
   "version": "3.5.2"
  }
 },
 "nbformat": 4,
 "nbformat_minor": 1
}
