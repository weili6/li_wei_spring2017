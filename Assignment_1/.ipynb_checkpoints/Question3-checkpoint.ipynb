{
 "cells": [
  {
   "cell_type": "markdown",
   "metadata": {},
   "source": [
    "# Question 3\n",
    "- Under package Webtext, see what files are in it\n",
    "- Get content in file 'pirates.txt'\n",
    "- According to the number of lines for Jack Sparrow and Will Turner, find out who is the real leading man in this movie"
   ]
  },
  {
   "cell_type": "code",
   "execution_count": 1,
   "metadata": {
    "collapsed": true
   },
   "outputs": [],
   "source": [
    "import nltk"
   ]
  },
  {
   "cell_type": "code",
   "execution_count": 2,
   "metadata": {
    "collapsed": false
   },
   "outputs": [
    {
     "name": "stdout",
     "output_type": "stream",
     "text": [
      "Webtext contains: ['firefox.txt', 'grail.txt', 'overheard.txt', 'pirates.txt', 'singles.txt', 'wine.txt']\n"
     ]
    }
   ],
   "source": [
    "print('Webtext contains:', nltk.corpus.webtext.fileids())"
   ]
  },
  {
   "cell_type": "code",
   "execution_count": 3,
   "metadata": {
    "collapsed": false
   },
   "outputs": [],
   "source": [
    "raw_txt = nltk.corpus.webtext.raw('pirates.txt')"
   ]
  },
  {
   "cell_type": "code",
   "execution_count": 4,
   "metadata": {
    "collapsed": false
   },
   "outputs": [
    {
     "name": "stdout",
     "output_type": "stream",
     "text": [
      "Leading man is Jack Sparrow\n"
     ]
    }
   ],
   "source": [
    "jack_count = 0\n",
    "will_count = 0\n",
    "for line in nltk.corpus.webtext.open('pirates.txt'):\n",
    "    if(line.split(':', 1)[0] == 'WILL TURNER'): #get the speaker of each line\n",
    "        will_count += 1\n",
    "    if(line.split(':', 1)[0] == 'JACK SPARROW'):\n",
    "        jack_count += 1\n",
    "if(jack_count > will_count):\n",
    "    print('Leading man is Jack Sparrow')\n",
    "else:\n",
    "    print('Leading man is Will Turner')"
   ]
  }
 ],
 "metadata": {
  "anaconda-cloud": {},
  "kernelspec": {
   "display_name": "Python [conda root]",
   "language": "python",
   "name": "conda-root-py"
  },
  "language_info": {
   "codemirror_mode": {
    "name": "ipython",
    "version": 3
   },
   "file_extension": ".py",
   "mimetype": "text/x-python",
   "name": "python",
   "nbconvert_exporter": "python",
   "pygments_lexer": "ipython3",
   "version": "3.5.2"
  }
 },
 "nbformat": 4,
 "nbformat_minor": 1
}
