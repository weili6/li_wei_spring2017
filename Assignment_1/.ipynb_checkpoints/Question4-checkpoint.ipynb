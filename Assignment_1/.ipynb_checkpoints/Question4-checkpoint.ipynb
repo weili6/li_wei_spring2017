{
 "cells": [
  {
   "cell_type": "markdown",
   "metadata": {},
   "source": [
    "# Question 4\n",
    "- Under package nps_chat, see what files are in it\n",
    "- Find 'user121' and see how many posts he posted in all\n",
    "- Find out how many unique user in each age range group. (20s, 30s,...)"
   ]
  },
  {
   "cell_type": "code",
   "execution_count": 1,
   "metadata": {
    "collapsed": true
   },
   "outputs": [],
   "source": [
    "import nltk"
   ]
  },
  {
   "cell_type": "code",
   "execution_count": 2,
   "metadata": {
    "collapsed": false
   },
   "outputs": [
    {
     "name": "stdout",
     "output_type": "stream",
     "text": [
      "nps_chat contains: ['10-19-20s_706posts.xml', '10-19-30s_705posts.xml', '10-19-40s_686posts.xml', '10-19-adults_706posts.xml', '10-24-40s_706posts.xml', '10-26-teens_706posts.xml', '11-06-adults_706posts.xml', '11-08-20s_705posts.xml', '11-08-40s_706posts.xml', '11-08-adults_705posts.xml', '11-08-teens_706posts.xml', '11-09-20s_706posts.xml', '11-09-40s_706posts.xml', '11-09-adults_706posts.xml', '11-09-teens_706posts.xml']\n"
     ]
    }
   ],
   "source": [
    "print('nps_chat contains:', nltk.corpus.nps_chat.fileids())"
   ]
  },
  {
   "cell_type": "code",
   "execution_count": 4,
   "metadata": {
    "collapsed": false
   },
   "outputs": [
    {
     "name": "stdout",
     "output_type": "stream",
     "text": [
      "user121 posted 36 in all\n"
     ]
    }
   ],
   "source": [
    "count = 0\n",
    "for word in nltk.corpus.nps_chat.words():\n",
    "    if(word == 'U121'):\n",
    "        count += 1\n",
    "print('user121 posted', count, 'in all')"
   ]
  },
  {
   "cell_type": "code",
   "execution_count": 3,
   "metadata": {
    "collapsed": false
   },
   "outputs": [
    {
     "name": "stdout",
     "output_type": "stream",
     "text": [
      "In the age group of 20s , the number of unique user is 81\n",
      "In the age group of 30s , the number of unique user is 35\n",
      "In the age group of adults , the number of unique user is 98\n",
      "In the age group of teens , the number of unique user is 62\n",
      "In the age group of 40s , the number of unique user is 78\n"
     ]
    }
   ],
   "source": [
    "age_dict = {}\n",
    "for title in nltk.corpus.nps_chat.fileids():\n",
    "    age_user = title.split('_', 1)[0].split('-', 3)[2]  #get the age group from the title of each file\n",
    "    age_dict.setdefault(age_user, []).append(title) #add each file to its corresponding age group\n",
    "for key in age_dict:\n",
    "    user_list = []\n",
    "    for word in nltk.corpus.nps_chat.words(title for title in age_dict[key]):\n",
    "        if(word.startswith('U') and word[1:].isdigit()): #get all words which comply with the form \"U+digits\"\n",
    "            user_list.append(word)\n",
    "    print('In the age group of', key, ', the number of unique user is', len(set(user_list)))  "
   ]
  }
 ],
 "metadata": {
  "anaconda-cloud": {},
  "kernelspec": {
   "display_name": "Python [conda root]",
   "language": "python",
   "name": "conda-root-py"
  },
  "language_info": {
   "codemirror_mode": {
    "name": "ipython",
    "version": 3
   },
   "file_extension": ".py",
   "mimetype": "text/x-python",
   "name": "python",
   "nbconvert_exporter": "python",
   "pygments_lexer": "ipython3",
   "version": "3.5.2"
  }
 },
 "nbformat": 4,
 "nbformat_minor": 1
}
