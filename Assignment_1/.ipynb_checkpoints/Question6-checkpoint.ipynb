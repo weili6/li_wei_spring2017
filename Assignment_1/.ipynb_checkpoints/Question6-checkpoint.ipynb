{
 "cells": [
  {
   "cell_type": "markdown",
   "metadata": {},
   "source": [
    "# Question 6\n",
    "- Under Inaugural Address package\n",
    "- For every president, find out how many unique words they used in speech\n",
    "- We will just assume that President Bush means one person (technically it is incorrect but we will ignore it)"
   ]
  },
  {
   "cell_type": "code",
   "execution_count": 2,
   "metadata": {
    "collapsed": true
   },
   "outputs": [],
   "source": [
    "import nltk"
   ]
  },
  {
   "cell_type": "code",
   "execution_count": 12,
   "metadata": {
    "collapsed": false
   },
   "outputs": [
    {
     "name": "stdout",
     "output_type": "stream",
     "text": [
      "President Nixon used 990 unique words in speech\n",
      "President Jefferson used 1215 unique words in speech\n",
      "President Washington used 636 unique words in speech\n",
      "President Lincoln used 1188 unique words in speech\n",
      "President Harrison used 2555 unique words in speech\n",
      "President VanBuren used 1267 unique words in speech\n",
      "President Johnson used 538 unique words in speech\n",
      "President Truman used 745 unique words in speech\n",
      "President Buchanan used 902 unique words in speech\n",
      "President Taft used 1385 unique words in speech\n",
      "President Roosevelt used 1616 unique words in speech\n",
      "President Jackson used 815 unique words in speech\n",
      "President Kennedy used 546 unique words in speech\n",
      "President Harding used 1126 unique words in speech\n",
      "President Cleveland used 1174 unique words in speech\n",
      "President Pierce used 1124 unique words in speech\n",
      "President Wilson used 959 unique words in speech\n",
      "President Grant used 822 unique words in speech\n",
      "President Bush used 1489 unique words in speech\n",
      "President Monroe used 1697 unique words in speech\n",
      "President Taylor used 488 unique words in speech\n",
      "President Adams used 1450 unique words in speech\n",
      "President Hayes used 808 unique words in speech\n",
      "President Hoover used 998 unique words in speech\n",
      "President Coolidge used 1164 unique words in speech\n",
      "President Clinton used 1066 unique words in speech\n",
      "President Obama used 900 unique words in speech\n",
      "President Reagan used 1378 unique words in speech\n",
      "President Madison used 871 unique words in speech\n",
      "President Garfield used 981 unique words in speech\n",
      "President Eisenhower used 1193 unique words in speech\n",
      "President Polk used 1267 unique words in speech\n",
      "President Carter used 504 unique words in speech\n",
      "President McKinley used 1616 unique words in speech\n"
     ]
    }
   ],
   "source": [
    "president_dict = {}\n",
    "for title in nltk.corpus.inaugural.fileids():\n",
    "    name = title.split('-', 1)[1].split('.', 1)[0]    #get president name from each title\n",
    "    president_dict.setdefault(name, []).append(title) #key:president name, value: file names in a list\n",
    "for key in president_dict:\n",
    "    list = []\n",
    "    for title in president_dict[key]:\n",
    "        for word in nltk.corpus.inaugural.words(title):\n",
    "            list.append(word.lower())\n",
    "    print('President', key, 'used', len(set(list)), 'unique words in speech')"
   ]
  }
 ],
 "metadata": {
  "anaconda-cloud": {},
  "kernelspec": {
   "display_name": "Python [conda root]",
   "language": "python",
   "name": "conda-root-py"
  },
  "language_info": {
   "codemirror_mode": {
    "name": "ipython",
    "version": 3
   },
   "file_extension": ".py",
   "mimetype": "text/x-python",
   "name": "python",
   "nbconvert_exporter": "python",
   "pygments_lexer": "ipython3",
   "version": "3.5.2"
  }
 },
 "nbformat": 4,
 "nbformat_minor": 1
}
