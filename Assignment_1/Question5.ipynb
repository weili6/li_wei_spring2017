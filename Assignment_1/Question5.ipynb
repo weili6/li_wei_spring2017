{
 "cells": [
  {
   "cell_type": "markdown",
   "metadata": {},
   "source": [
    "# Question 5\n",
    "- Use Gutenberg and Web_text data. Find out what are the top 5 words that Shakespeare used but we do not use in currently\n",
    "- Take top 50 words from Shakespeare (all 3 books) and top 50 from Web_text (all the records)\n",
    "- Remove punctuation and stop words\n",
    "- Remove the words we still use today, and get the unused list. Show the top 5 elements"
   ]
  },
  {
   "cell_type": "code",
   "execution_count": 1,
   "metadata": {
    "collapsed": false
   },
   "outputs": [],
   "source": [
    "import nltk\n",
    "from nltk.probability import FreqDist\n",
    "import string\n",
    "from nltk.corpus import stopwords"
   ]
  },
  {
   "cell_type": "code",
   "execution_count": 2,
   "metadata": {
    "collapsed": false
   },
   "outputs": [
    {
     "name": "stdout",
     "output_type": "stream",
     "text": [
      "Top 50 words from Shakespeare ['macb', 'haue', 'thou', 'enter', 'shall', 'vpon', 'macbeth', 'thee', 'macd', 'vs', 'yet', 'th', 'thy', 'king', 'come', 'would', 'hath', 'rosse', 'good', 'lady', 'time', 'like', 'st', 'let', 'say', 'make', 'banquo', 'lord', 'doe', 'tis', 'must', 'know', 'feare', 'may', 'done', 'selfe', 'ile', 'wife', 'man', 'night', 'well', 'one', 'great', 'see', 'exeunt', 'sir', 'speake', 'lenox', 'vp', 'heere']\n"
     ]
    }
   ],
   "source": [
    "for title in nltk.corpus.gutenberg.fileids():\n",
    "    if(title.split('-', 1)[0] == 'shakespeare'): #get all Shapespeare's books from gutenberg\n",
    "        sp_freq = FreqDist(word.lower() for word in nltk.corpus.gutenberg.words(title)) #get word frequency\n",
    "sp_clean = []\n",
    "for word in sorted(sp_freq, key = sp_freq.get, reverse=True):\n",
    "    if(word not in stopwords.words('english') and word.isdigit() == False): #strip stopwords and numbers\n",
    "        count = 0\n",
    "        for punc in string.punctuation: #strip punctuations\n",
    "            if(punc in word):\n",
    "                count += 1\n",
    "        if(count == 0):\n",
    "            sp_clean.append(word)\n",
    "print('Top 50 words from Shakespeare', sp_clean[:50])"
   ]
  },
  {
   "cell_type": "code",
   "execution_count": 3,
   "metadata": {
    "collapsed": false
   },
   "outputs": [
    {
     "name": "stdout",
     "output_type": "stream",
     "text": [
      "Top 50 words from Webtext: ['girl', 'guy', 'like', 'man', 'know', 'woman', 'yeah', 'page', 'firefox', 'get', 'new', 'chick', 'one', 'oh', 'open', 'window', 'good', 'bookmarks', 'teen', 'well', 'firebird', 'cell', 'right', 'go', 'work', 'bar', 'menu', 'tab', 'lady', 'toolbar', 'boy', 'want', 'browser', 'think', 'jack', 'bookmark', 'old', 'really', 'going', 'download', 'url', 'back', 'time', 'black', 'manager', 'little', 'got', 'crash', 'would', 'button']\n"
     ]
    }
   ],
   "source": [
    "web_freq = FreqDist(word.lower() for word in nltk.corpus.webtext.words()) #get word frequency\n",
    "web_clean = []       \n",
    "for word in sorted(web_freq, key = web_freq.get, reverse=True):\n",
    "    if(word not in stopwords.words('english') and word.isdigit() == False): #strip stopwords and numbers\n",
    "        count = 0\n",
    "        for punc in string.punctuation: #strip punctuations\n",
    "            if(punc in word):\n",
    "                count += 1\n",
    "        if(count == 0):\n",
    "            web_clean.append(word)\n",
    "print('Top 50 words from Webtext:', web_clean[:50])"
   ]
  },
  {
   "cell_type": "code",
   "execution_count": 4,
   "metadata": {
    "collapsed": false
   },
   "outputs": [
    {
     "name": "stdout",
     "output_type": "stream",
     "text": [
      "Top 5 words Shakespears used but we don't use currently: ['macb', 'haue', 'vpon', 'macbeth', 'macd']\n"
     ]
    }
   ],
   "source": [
    "unused_words = [] #unused list\n",
    "for word in sp_clean:\n",
    "    if(word not in web_clean):\n",
    "        unused_words.append(word)\n",
    "print('Top 5 words Shakespears used but we don\\'t use currently:', unused_words[:5])"
   ]
  }
 ],
 "metadata": {
  "anaconda-cloud": {},
  "kernelspec": {
   "display_name": "Python [conda root]",
   "language": "python",
   "name": "conda-root-py"
  },
  "language_info": {
   "codemirror_mode": {
    "name": "ipython",
    "version": 3
   },
   "file_extension": ".py",
   "mimetype": "text/x-python",
   "name": "python",
   "nbconvert_exporter": "python",
   "pygments_lexer": "ipython3",
   "version": "3.5.2"
  }
 },
 "nbformat": 4,
 "nbformat_minor": 1
}
