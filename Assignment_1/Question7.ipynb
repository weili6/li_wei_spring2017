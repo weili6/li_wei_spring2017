{
 "cells": [
  {
   "cell_type": "markdown",
   "metadata": {},
   "source": [
    "# Question 7\n",
    "- Use Name corpus, calculate the probability of a name being of a male or female base on the last character(s) of name\n",
    "- Sample steps:\n",
    "  1. For char ‘a’:\n",
    "\ttotal_names = sum(names ending with ‘a’)\n",
    "\tmale_names = sum(male names ending with ‘a’)\n",
    "\tfemale_names = sum(female names ending with ‘a’)\n",
    "\tProbability of name being male = 100 * male_names / total_names\n",
    "  2. Do this for all characters\n",
    "- Output must come with proper title (e.g. [a] male: 25%, female: 60%)"
   ]
  },
  {
   "cell_type": "code",
   "execution_count": 2,
   "metadata": {
    "collapsed": true
   },
   "outputs": [],
   "source": [
    "import nltk"
   ]
  },
  {
   "cell_type": "code",
   "execution_count": 4,
   "metadata": {
    "collapsed": false
   },
   "outputs": [
    {
     "name": "stdout",
     "output_type": "stream",
     "text": [
      "a male: 1.61 %, female: 98.39 %\n",
      "b male: 70.0 %, female: 30.0 %\n",
      "c male: 100.0 %, female: 0.0 %\n",
      "d male: 85.39 %, female: 14.61 %\n",
      "e male: 24.63 %, female: 75.37 %\n",
      "f male: 92.59 %, female: 7.41 %\n",
      "g male: 76.19 %, female: 23.81 %\n",
      "h male: 46.97 %, female: 53.03 %\n",
      "i male: 13.62 %, female: 86.38 %\n",
      "j male: 75.0 %, female: 25.0 %\n",
      "k male: 95.83 %, female: 4.17 %\n",
      "l male: 51.09 %, female: 48.91 %\n",
      "m male: 84.34 %, female: 15.66 %\n",
      "n male: 55.32 %, female: 44.68 %\n",
      "o male: 83.33 %, female: 16.67 %\n",
      "p male: 90.0 %, female: 10.0 %\n",
      "q male: 0%, female: 0%\n",
      "r male: 80.17 %, female: 19.83 %\n",
      "s male: 71.21 %, female: 28.79 %\n",
      "t male: 70.69 %, female: 29.31 %\n",
      "u male: 66.67 %, female: 33.33 %\n",
      "v male: 88.89 %, female: 11.11 %\n",
      "w male: 77.27 %, female: 22.73 %\n",
      "x male: 50.0 %, female: 50.0 %\n",
      "y male: 41.87 %, female: 58.13 %\n",
      "z male: 73.33 %, female: 26.67 %\n"
     ]
    }
   ],
   "source": [
    "nltk.corpus.names.fileids()\n",
    "import string\n",
    "for char in string.ascii_lowercase:\n",
    "    female_num = len([name for name in nltk.corpus.names.words(\"female.txt\") if name.endswith(char)]) #get the number of female names ending with a specific letter\n",
    "    male_num = len([name for name in nltk.corpus.names.words(\"male.txt\") if name.endswith(char)]) #get the number of male names ending with a specific letter\n",
    "    if(female_num + male_num == 0):\n",
    "        print(char, 'male: 0%, female: 0%') #when no female or male names ending with a\n",
    "    else:\n",
    "        prob_male = round(male_num / (female_num + male_num)*100, 2)\n",
    "        prob_female = round(female_num / (female_num + male_num)*100, 2)\n",
    "        print(char, 'male:', prob_male, '%, female:', prob_female, '%')"
   ]
  }
 ],
 "metadata": {
  "anaconda-cloud": {},
  "kernelspec": {
   "display_name": "Python [conda root]",
   "language": "python",
   "name": "conda-root-py"
  },
  "language_info": {
   "codemirror_mode": {
    "name": "ipython",
    "version": 3
   },
   "file_extension": ".py",
   "mimetype": "text/x-python",
   "name": "python",
   "nbconvert_exporter": "python",
   "pygments_lexer": "ipython3",
   "version": "3.5.2"
  }
 },
 "nbformat": 4,
 "nbformat_minor": 1
}
