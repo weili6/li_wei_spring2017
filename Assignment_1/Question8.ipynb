{
 "cells": [
  {
   "cell_type": "markdown",
   "metadata": {},
   "source": [
    "# Question 8\n",
    "- Use nps_chat and wordlist corpus\n",
    "- If you find a word in nps_chat but not in wordlist, it is considered an unusual word. (e.g. Heyyyy, gr8, 4ever can be considered unusual words for this analysis)\n",
    "- Find out how many unusual words people speak in chat (notice: usernames should not be counted)\n",
    "- Bonus: What if I want to  count : ) , : ( all these emoticons in. (optional)"
   ]
  },
  {
   "cell_type": "code",
   "execution_count": 2,
   "metadata": {
    "collapsed": true
   },
   "outputs": [],
   "source": [
    "import nltk\n",
    "import string\n",
    "from nltk.corpus import stopwords"
   ]
  },
  {
   "cell_type": "code",
   "execution_count": 3,
   "metadata": {
    "collapsed": false
   },
   "outputs": [],
   "source": [
    "clean_words = []\n",
    "for word in set(nltk.corpus.nps_chat.words()):\n",
    "    if(word not in stopwords.words('english') and word.isdigit() == False): #strip stopwords and numbers\n",
    "        count = 0\n",
    "        for punc in string.punctuation: #strip punctuations\n",
    "            if(punc in word):\n",
    "                count += 1\n",
    "        if(count == 0):\n",
    "            clean_words.append(word)\n",
    "for word in clean_words:\n",
    "    if(word.startswith('U') and word[1:].isdigit()): #strip usernames\n",
    "        clean_words.remove(word)"
   ]
  },
  {
   "cell_type": "code",
   "execution_count": 4,
   "metadata": {
    "collapsed": false
   },
   "outputs": [
    {
     "name": "stdout",
     "output_type": "stream",
     "text": [
      "The number of ususual words people speak in chat is 2278\n"
     ]
    }
   ],
   "source": [
    "unusual_words = []\n",
    "num = 0\n",
    "for word in clean_words:\n",
    "    if(word.lower() not in [item.lower() for item in nltk.corpus.words.words()]):\n",
    "        unusual_words.append(word.lower())\n",
    "        num += 1\n",
    "print('The number of ususual words people speak in chat is', num)"
   ]
  }
 ],
 "metadata": {
  "anaconda-cloud": {},
  "kernelspec": {
   "display_name": "Python [conda root]",
   "language": "python",
   "name": "conda-root-py"
  },
  "language_info": {
   "codemirror_mode": {
    "name": "ipython",
    "version": 3
   },
   "file_extension": ".py",
   "mimetype": "text/x-python",
   "name": "python",
   "nbconvert_exporter": "python",
   "pygments_lexer": "ipython3",
   "version": "3.5.2"
  }
 },
 "nbformat": 4,
 "nbformat_minor": 1
}
