{
 "cells": [
  {
   "cell_type": "markdown",
   "metadata": {},
   "source": [
    "# Question 1\n",
    "- Learn and understand Zipf’s Law"
   ]
  },
  {
   "cell_type": "code",
   "execution_count": 1,
   "metadata": {
    "collapsed": true
   },
   "outputs": [],
   "source": [
    "import nltk\n",
    "import glob\n",
    "import collections\n",
    "import re\n",
    "import csv\n",
    "from math import log\n",
    "import matplotlib.pyplot as plt"
   ]
  },
  {
   "cell_type": "code",
   "execution_count": 2,
   "metadata": {
    "collapsed": false
   },
   "outputs": [],
   "source": [
    "filepaths = glob.glob(\"/Users/lizhiming/nltk_data/**/bible*\", recursive = True)    #use glob to open files"
   ]
  },
  {
   "cell_type": "code",
   "execution_count": 3,
   "metadata": {
    "collapsed": true
   },
   "outputs": [],
   "source": [
    "def get_words(text):                               # define a function to extract words from the file\n",
    "    return re.compile('[A-Za-z]+').findall(text)   "
   ]
  },
  {
   "cell_type": "code",
   "execution_count": 4,
   "metadata": {
    "collapsed": false
   },
   "outputs": [],
   "source": [
    "for name in filepaths:\n",
    "    with open(name) as file:\n",
    "        word_freq = collections.Counter()          #use Counter to get word frequency\n",
    "        for line in file:\n",
    "            for word in get_words(line):\n",
    "                word.lower()\n",
    "                word_freq[word] += 1"
   ]
  },
  {
   "cell_type": "code",
   "execution_count": 5,
   "metadata": {
    "collapsed": false
   },
   "outputs": [],
   "source": [
    "with open('data.csv', 'w') as csvfile:             #write data into csv file\n",
    "    writer = csv.writer(csvfile)\n",
    "    writer.writerow(['word', 'rank', 'frequency'])\n",
    "    rank = 0\n",
    "    for word in word_freq.most_common():           #use Counter.most_common() to rank the words based on frequency\n",
    "        rank += 1\n",
    "        writer.writerow([word[0], rank, word[1]])"
   ]
  },
  {
   "cell_type": "code",
   "execution_count": 6,
   "metadata": {
    "collapsed": false
   },
   "outputs": [],
   "source": [
    "with open('data.csv', 'r') as csvfile:             #read data from csv file\n",
    "    reader = csv.reader(csvfile)\n",
    "    next(reader)\n",
    "    rank = []\n",
    "    frequency = []\n",
    "    for row in reader:\n",
    "        rank.append(row[1])\n",
    "        frequency.append(row[2])"
   ]
  },
  {
   "cell_type": "code",
   "execution_count": 7,
   "metadata": {
    "collapsed": false
   },
   "outputs": [
    {
     "data": {
      "image/png": "[encoded data removed]",
      "text/plain": [
       "<matplotlib.figure.Figure at 0x11035b780>"
      ]
     },
     "metadata": {},
     "output_type": "display_data"
    }
   ],
   "source": [
    "y = list(map(lambda y: log(float(y)), frequency))  #use lambda function to get the log of every element in the list\n",
    "x = list(map(lambda x: log(float(x)), rank))\n",
    "plt.plot(x, y)\n",
    "plt.ylabel('log(frequency)')\n",
    "plt.xlabel('log(rank)')\n",
    "plt.show()                                         #use matplotlib to plot log-log graph"
   ]
  },
  {
   "cell_type": "markdown",
   "metadata": {},
   "source": [
    "# Conclusion\n",
    "- The slope of the log-log figure approximately equals to -1, which complies with Zipf's law.\n",
    "- For highest and lowest frequency words (the area where the line crosses the x-axis and y-axis, Zipf's law makes most errors."
   ]
  }
 ],
 "metadata": {
  "anaconda-cloud": {},
  "kernelspec": {
   "display_name": "Python [conda root]",
   "language": "python",
   "name": "conda-root-py"
  },
  "language_info": {
   "codemirror_mode": {
    "name": "ipython",
    "version": 3
   },
   "file_extension": ".py",
   "mimetype": "text/x-python",
   "name": "python",
   "nbconvert_exporter": "python",
   "pygments_lexer": "ipython3",
   "version": "3.5.2"
  }
 },
 "nbformat": 4,
 "nbformat_minor": 1
}
