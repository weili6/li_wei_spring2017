{
 "cells": [
  {
   "cell_type": "markdown",
   "metadata": {
    "collapsed": true
   },
   "source": [
    "# Question 2 Part 1\n",
    "- Read all the json files in the folder called Data.\n",
    "- Create a folder structure to read all these json files and store them into these separate folders. You are expected to create a hierarchy of folder structure"
   ]
  },
  {
   "cell_type": "code",
   "execution_count": 1,
   "metadata": {
    "collapsed": true
   },
   "outputs": [],
   "source": [
    "import glob\n",
    "import json\n",
    "import os\n",
    "import shutil"
   ]
  },
  {
   "cell_type": "code",
   "execution_count": 2,
   "metadata": {
    "collapsed": false
   },
   "outputs": [],
   "source": [
    "path = 'data/*.json'               # read all files in data folder using glob\n",
    "files=glob.glob(path)\n",
    "country_list = []\n",
    "term_list = []\n",
    "for name in files:\n",
    "    with open(name, 'r') as file:\n",
    "        data = json.load(file)\n",
    "        country = data['location']['country']\n",
    "        country_list.append(country)                        \n",
    "        term = data['term']\n",
    "        term_list.append(term)\n",
    "        file_id = data['id']\n",
    "        new_name = 'Data/' + country + '_'+ term + '_' + file_id + '.json'\n",
    "        os.rename(name, new_name)                          # rename all the files with country+term+id"
   ]
  },
  {
   "cell_type": "code",
   "execution_count": 3,
   "metadata": {
    "collapsed": false
   },
   "outputs": [],
   "source": [
    "for country in set(country_list):                                      # iterate all countries in the list\n",
    "    os.mkdir('Data Processed/' + country)     # create new folders based on countries\n",
    "    for term in set(term_list):                                        # iterate all terms in the list\n",
    "        os.mkdir('Data Processed/' + country + '/' + term)   # create new folders based on terms"
   ]
  },
  {
   "cell_type": "code",
   "execution_count": 4,
   "metadata": {
    "collapsed": false
   },
   "outputs": [],
   "source": [
    "new_path = 'Data/*.json'\n",
    "renamed_files = glob.glob(new_path)\n",
    "for name in renamed_files:\n",
    "    filename = os.path.basename(name)                            # get filenames using os.path.basename\n",
    "    country = filename.split('_')[0]\n",
    "    term = filename.split('_')[1]\n",
    "    shutil.move(name, 'Data Processed/'+ country + '/' + term)   # move files into corresponding folders"
   ]
  }
 ],
 "metadata": {
  "anaconda-cloud": {},
  "kernelspec": {
   "display_name": "Python [conda root]",
   "language": "python",
   "name": "conda-root-py"
  },
  "language_info": {
   "codemirror_mode": {
    "name": "ipython",
    "version": 3
   },
   "file_extension": ".py",
   "mimetype": "text/x-python",
   "name": "python",
   "nbconvert_exporter": "python",
   "pygments_lexer": "ipython3",
   "version": "3.5.2"
  }
 },
 "nbformat": 4,
 "nbformat_minor": 1
}
