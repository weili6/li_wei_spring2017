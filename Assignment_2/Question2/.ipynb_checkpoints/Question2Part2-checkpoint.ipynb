{
 "cells": [
  {
   "cell_type": "markdown",
   "metadata": {},
   "source": [
    "# Question 2 Part 2\n",
    "- Read only the json files which contain the key called “restaurants”\n",
    "- Each (or most of the json files) contain a key called “open” which contains the details of the operation (timings) of the restaurants. For each json file, read the timings of the restaurants\n",
    "- Data of the operation timings of the restaurants is present for each day of the week. I want you to extract each of this data and write it in an excel sheet"
   ]
  },
  {
   "cell_type": "code",
   "execution_count": 1,
   "metadata": {
    "collapsed": true
   },
   "outputs": [],
   "source": [
    "import glob\n",
    "import json\n",
    "import shutil\n",
    "import csv\n",
    "import os"
   ]
  },
  {
   "cell_type": "code",
   "execution_count": 2,
   "metadata": {
    "collapsed": true
   },
   "outputs": [],
   "source": [
    "os.mkdir('Restaurants')\n",
    "path = 'data/*.json'                    # get all restaurants files from data folder\n",
    "files=glob.glob(path)\n",
    "for name in files:\n",
    "    with open(name, 'r') as file:\n",
    "        data = json.load(file)\n",
    "        if(data['term'] == 'restaurants'):\n",
    "            shutil.move(name, 'Restaurants')"
   ]
  },
  {
   "cell_type": "code",
   "execution_count": 3,
   "metadata": {
    "collapsed": false
   },
   "outputs": [],
   "source": [
    "new_path = 'Restaurants/*.json'\n",
    "rfiles = glob.glob(new_path)\n",
    "with open('restaurants.csv', 'w') as csvfile:\n",
    "    writer = csv.writer(csvfile)\n",
    "    writer.writerow(['Name of restaurant', 'City', 'Country code', 'Day of week', 'Start time hour', 'Start time minute', 'End time hour', 'End time minute'])\n",
    "    for name in rfiles:\n",
    "        with open(name, 'r') as rfile:\n",
    "            rdata = json.load(rfile)\n",
    "            city = rdata['location']['city']            # extract necessary data from the file\n",
    "            country = rdata['location']['country']\n",
    "            rname = rdata['name']\n",
    "            if('hours' in rdata):                       # if the file containes 'hours' element then write rows into csv file, otherwise not\n",
    "                for day in rdata['hours'][0]['open']:\n",
    "                    dow = day['day']                    \n",
    "                    sth = day['start'][:2]\n",
    "                    stm = day['start'][2:]\n",
    "                    eth = day['end'][:2]\n",
    "                    etm = day['end'][:2]\n",
    "                    writer.writerow([rname, city, country, dow, sth, stm, eth, etm])                "
   ]
  }
 ],
 "metadata": {
  "anaconda-cloud": {},
  "kernelspec": {
   "display_name": "Python [conda root]",
   "language": "python",
   "name": "conda-root-py"
  },
  "language_info": {
   "codemirror_mode": {
    "name": "ipython",
    "version": 3
   },
   "file_extension": ".py",
   "mimetype": "text/x-python",
   "name": "python",
   "nbconvert_exporter": "python",
   "pygments_lexer": "ipython3",
   "version": "3.5.2"
  }
 },
 "nbformat": 4,
 "nbformat_minor": 1
}
