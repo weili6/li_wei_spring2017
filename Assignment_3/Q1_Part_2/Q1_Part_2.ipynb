{
 "cells": [
  {
   "cell_type": "markdown",
   "metadata": {},
   "source": [
    "# Question 1 Part 2\n",
    "- Use ‘vehicle_collisions’ data set.\n",
    "- For each borough, find out distribution of each collision scale. (One car involved? Two? Three? or more?) (From 2015 to present)\n",
    "- Display a few rows of the output use df.head().\n",
    "- Generate a csv output with five columns ('borough', 'one-vehicle', 'two- vehicles', 'three-vehicles', 'more-vehicles')"
   ]
  },
  {
   "cell_type": "code",
   "execution_count": 10,
   "metadata": {
    "collapsed": true
   },
   "outputs": [],
   "source": [
    "import pandas as pd"
   ]
  },
  {
   "cell_type": "code",
   "execution_count": 11,
   "metadata": {
    "collapsed": false
   },
   "outputs": [],
   "source": [
    "vs = pd.read_csv('../Data/vehicle_collisions.csv', sep=',')"
   ]
  },
  {
   "cell_type": "code",
   "execution_count": 12,
   "metadata": {
    "collapsed": false
   },
   "outputs": [],
   "source": [
    "vs = vs[pd.notnull(vs['BOROUGH'])].reset_index(drop = True) "
   ]
  },
  {
   "cell_type": "code",
   "execution_count": 13,
   "metadata": {
    "collapsed": false
   },
   "outputs": [],
   "source": [
    "total = 5\n",
    "vehicle_df = vs[['VEHICLE 1 TYPE','VEHICLE 2 TYPE','VEHICLE 3 TYPE','VEHICLE 4 TYPE','VEHICLE 5 TYPE']]\n",
    "scale = total - vehicle_df.isnull().sum(axis=1)  #calculate the number of vehicles involved for each accident"
   ]
  },
  {
   "cell_type": "code",
   "execution_count": 14,
   "metadata": {
    "collapsed": false
   },
   "outputs": [],
   "source": [
    "def categorize_scale(row):\n",
    "    if row['VEHICLES_INVOLOVED'] == 0:\n",
    "        row['ZERO_VEHICLE_INVOLVED'] += 1\n",
    "        return row\n",
    "    if row['VEHICLES_INVOLOVED'] == 1:\n",
    "        row['ONE_VEHICLE_INVOLVED'] += 1\n",
    "        return row\n",
    "    if row['VEHICLES_INVOLOVED'] == 2:\n",
    "        row['TWO_VEHICLES_INVOLVED'] += 1\n",
    "        return row\n",
    "    if row['VEHICLES_INVOLOVED'] == 3:\n",
    "        row['THREE_VEHICLES_INVOLVED'] += 1\n",
    "        return row\n",
    "    else:\n",
    "        row['MORE_VEHICLES_INVOLVED'] += 1\n",
    "        return row                                 #define a function to put the number of vehicles involved to the corresponding column"
   ]
  },
  {
   "cell_type": "code",
   "execution_count": 15,
   "metadata": {
    "collapsed": false
   },
   "outputs": [
    {
     "data": {
      "text/html": [
       "<div>\n",
       "<table border=\"1\" class=\"dataframe\">\n",
       "  <thead>\n",
       "    <tr style=\"text-align: right;\">\n",
       "      <th></th>\n",
       "      <th>BOROUGH</th>\n",
       "      <th>MORE_VEHICLES_INVOLVED</th>\n",
       "      <th>ONE_VEHICLE_INVOLVED</th>\n",
       "      <th>THREE_VEHICLES_INVOLVED</th>\n",
       "      <th>TWO_VEHICLES_INVOLVED</th>\n",
       "    </tr>\n",
       "  </thead>\n",
       "  <tbody>\n",
       "    <tr>\n",
       "      <th>0</th>\n",
       "      <td>QUEENS</td>\n",
       "      <td>0</td>\n",
       "      <td>1</td>\n",
       "      <td>0</td>\n",
       "      <td>0</td>\n",
       "    </tr>\n",
       "    <tr>\n",
       "      <th>1</th>\n",
       "      <td>BROOKLYN</td>\n",
       "      <td>0</td>\n",
       "      <td>0</td>\n",
       "      <td>0</td>\n",
       "      <td>1</td>\n",
       "    </tr>\n",
       "    <tr>\n",
       "      <th>2</th>\n",
       "      <td>BROOKLYN</td>\n",
       "      <td>0</td>\n",
       "      <td>0</td>\n",
       "      <td>0</td>\n",
       "      <td>1</td>\n",
       "    </tr>\n",
       "    <tr>\n",
       "      <th>3</th>\n",
       "      <td>BROOKLYN</td>\n",
       "      <td>1</td>\n",
       "      <td>0</td>\n",
       "      <td>0</td>\n",
       "      <td>0</td>\n",
       "    </tr>\n",
       "    <tr>\n",
       "      <th>4</th>\n",
       "      <td>QUEENS</td>\n",
       "      <td>0</td>\n",
       "      <td>0</td>\n",
       "      <td>1</td>\n",
       "      <td>0</td>\n",
       "    </tr>\n",
       "  </tbody>\n",
       "</table>\n",
       "</div>"
      ],
      "text/plain": [
       "    BOROUGH  MORE_VEHICLES_INVOLVED  ONE_VEHICLE_INVOLVED  \\\n",
       "0    QUEENS                       0                     1   \n",
       "1  BROOKLYN                       0                     0   \n",
       "2  BROOKLYN                       0                     0   \n",
       "3  BROOKLYN                       1                     0   \n",
       "4    QUEENS                       0                     0   \n",
       "\n",
       "   THREE_VEHICLES_INVOLVED  TWO_VEHICLES_INVOLVED  \n",
       "0                        0                      0  \n",
       "1                        0                      1  \n",
       "2                        0                      1  \n",
       "3                        0                      0  \n",
       "4                        1                      0  "
      ]
     },
     "execution_count": 15,
     "metadata": {},
     "output_type": "execute_result"
    }
   ],
   "source": [
    "df = pd.DataFrame({'BOROUGH':vs['BOROUGH'],'VEHICLES_INVOLOVED':scale.values, 'ZERO_VEHICLE_INVOLVED':0, 'ONE_VEHICLE_INVOLVED':0, 'TWO_VEHICLES_INVOLVED':0, 'THREE_VEHICLES_INVOLVED':0, 'MORE_VEHICLES_INVOLVED':0})\n",
    "df = df.apply(lambda x: categorize_scale(x), axis =1).drop(['VEHICLES_INVOLOVED', 'ZERO_VEHICLE_INVOLVED'], 1)\n",
    "df.head()                      #apply the function to the dataframe"
   ]
  },
  {
   "cell_type": "code",
   "execution_count": 16,
   "metadata": {
    "collapsed": false
   },
   "outputs": [],
   "source": [
    "df = df.groupby('BOROUGH', as_index=False).sum()     #sum up by BOROUGH"
   ]
  },
  {
   "cell_type": "code",
   "execution_count": 17,
   "metadata": {
    "collapsed": false
   },
   "outputs": [
    {
     "data": {
      "text/html": [
       "<div>\n",
       "<table border=\"1\" class=\"dataframe\">\n",
       "  <thead>\n",
       "    <tr style=\"text-align: right;\">\n",
       "      <th></th>\n",
       "      <th>BOROUGH</th>\n",
       "      <th>ONE_VEHICLE_INVOLVED</th>\n",
       "      <th>TWO_VEHICLES_INVOLVED</th>\n",
       "      <th>THREE_VEHICLES_INVOLVED</th>\n",
       "      <th>MORE_VEHICLES_INVOLVED</th>\n",
       "    </tr>\n",
       "  </thead>\n",
       "  <tbody>\n",
       "    <tr>\n",
       "      <th>0</th>\n",
       "      <td>BRONX</td>\n",
       "      <td>8627</td>\n",
       "      <td>34385</td>\n",
       "      <td>1962</td>\n",
       "      <td>625</td>\n",
       "    </tr>\n",
       "    <tr>\n",
       "      <th>1</th>\n",
       "      <td>BROOKLYN</td>\n",
       "      <td>17375</td>\n",
       "      <td>80207</td>\n",
       "      <td>4980</td>\n",
       "      <td>1612</td>\n",
       "    </tr>\n",
       "    <tr>\n",
       "      <th>2</th>\n",
       "      <td>MANHATTAN</td>\n",
       "      <td>13318</td>\n",
       "      <td>66958</td>\n",
       "      <td>2024</td>\n",
       "      <td>501</td>\n",
       "    </tr>\n",
       "    <tr>\n",
       "      <th>3</th>\n",
       "      <td>QUEENS</td>\n",
       "      <td>12962</td>\n",
       "      <td>70260</td>\n",
       "      <td>4498</td>\n",
       "      <td>1420</td>\n",
       "    </tr>\n",
       "    <tr>\n",
       "      <th>4</th>\n",
       "      <td>STATEN ISLAND</td>\n",
       "      <td>2343</td>\n",
       "      <td>10676</td>\n",
       "      <td>759</td>\n",
       "      <td>165</td>\n",
       "    </tr>\n",
       "  </tbody>\n",
       "</table>\n",
       "</div>"
      ],
      "text/plain": [
       "         BOROUGH  ONE_VEHICLE_INVOLVED  TWO_VEHICLES_INVOLVED  \\\n",
       "0          BRONX                  8627                  34385   \n",
       "1       BROOKLYN                 17375                  80207   \n",
       "2      MANHATTAN                 13318                  66958   \n",
       "3         QUEENS                 12962                  70260   \n",
       "4  STATEN ISLAND                  2343                  10676   \n",
       "\n",
       "   THREE_VEHICLES_INVOLVED  MORE_VEHICLES_INVOLVED  \n",
       "0                     1962                     625  \n",
       "1                     4980                    1612  \n",
       "2                     2024                     501  \n",
       "3                     4498                    1420  \n",
       "4                      759                     165  "
      ]
     },
     "execution_count": 17,
     "metadata": {},
     "output_type": "execute_result"
    }
   ],
   "source": [
    "df = df[['BOROUGH','ONE_VEHICLE_INVOLVED','TWO_VEHICLES_INVOLVED','THREE_VEHICLES_INVOLVED','MORE_VEHICLES_INVOLVED']]\n",
    "df.head()"
   ]
  },
  {
   "cell_type": "code",
   "execution_count": 18,
   "metadata": {
    "collapsed": true
   },
   "outputs": [],
   "source": [
    "df.to_csv('Q1_Part_2.csv', sep=',', index=False)"
   ]
  }
 ],
 "metadata": {
  "anaconda-cloud": {},
  "kernelspec": {
   "display_name": "Python [conda root]",
   "language": "python",
   "name": "conda-root-py"
  },
  "language_info": {
   "codemirror_mode": {
    "name": "ipython",
    "version": 3
   },
   "file_extension": ".py",
   "mimetype": "text/x-python",
   "name": "python",
   "nbconvert_exporter": "python",
   "pygments_lexer": "ipython3",
   "version": "3.5.2"
  }
 },
 "nbformat": 4,
 "nbformat_minor": 1
}
