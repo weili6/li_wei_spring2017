{
 "cells": [
  {
   "cell_type": "markdown",
   "metadata": {},
   "source": [
    "# Question 2 Part 2\n",
    "- Use 'employee_compensation' data set.\n",
    "- Data contains fiscal and calendar year information. Same employee details exist twice in the dataset. Filter data by calendar year and find average salary (you might have to find average for each of the columns for every employee. Eg. Average of Total Benefits, Average of total compensation etc.) for every employee.\n",
    "- Now, find the people whose overtime salary is greater than 5% of salaries (salaries refers to ’Salaries' column)\n",
    "- For each ‘Job Family’ these people are associated with, calculate the percentage of total benefits with respect to total compensation (so for each job family you have to calculate average total benefits and average total compensation). Create a new column to hold the percentage value.\n",
    "- Display the top 5 Job Families according to this percentage value using df.head().\n",
    "- Write the output (jobs and percentage value) to a csv."
   ]
  },
  {
   "cell_type": "code",
   "execution_count": 1,
   "metadata": {
    "collapsed": true
   },
   "outputs": [],
   "source": [
    "import pandas as pd"
   ]
  },
  {
   "cell_type": "code",
   "execution_count": 2,
   "metadata": {
    "collapsed": true
   },
   "outputs": [],
   "source": [
    "ec = pd.read_csv('../Data/employee_compensation.csv', sep=',')"
   ]
  },
  {
   "cell_type": "code",
   "execution_count": 3,
   "metadata": {
    "collapsed": false
   },
   "outputs": [],
   "source": [
    "df = ec[ec['Year Type'] == 'Calendar'].reset_index(drop=True)  #filter by calender year"
   ]
  },
  {
   "cell_type": "code",
   "execution_count": 4,
   "metadata": {
    "collapsed": false
   },
   "outputs": [
    {
     "data": {
      "text/plain": [
       "Salaries               64973.851896\n",
       "Overtime                4591.135547\n",
       "Other Salaries          3834.299165\n",
       "Total Salary           73399.286608\n",
       "Retirement             13087.974695\n",
       "Health/Dental           9197.973054\n",
       "Other Benefits          4798.753051\n",
       "Total Benefits         27084.700801\n",
       "Total Compensation    100483.987409\n",
       "dtype: float64"
      ]
     },
     "execution_count": 4,
     "metadata": {},
     "output_type": "execute_result"
    }
   ],
   "source": [
    "avg_salary = df[['Salaries','Overtime','Other Salaries','Total Salary','Retirement','Health/Dental','Other Benefits','Total Benefits','Total Compensation']].mean(axis=0)\n",
    "avg_salary   #calculate the average number for each compensation type"
   ]
  },
  {
   "cell_type": "code",
   "execution_count": 5,
   "metadata": {
    "collapsed": false
   },
   "outputs": [
    {
     "data": {
      "text/html": [
       "<div>\n",
       "<table border=\"1\" class=\"dataframe\">\n",
       "  <thead>\n",
       "    <tr style=\"text-align: right;\">\n",
       "      <th></th>\n",
       "      <th>Year Type</th>\n",
       "      <th>Year</th>\n",
       "      <th>Organization Group Code</th>\n",
       "      <th>Organization Group</th>\n",
       "      <th>Department Code</th>\n",
       "      <th>Department</th>\n",
       "      <th>Union Code</th>\n",
       "      <th>Union</th>\n",
       "      <th>Job Family Code</th>\n",
       "      <th>Job Family</th>\n",
       "      <th>...</th>\n",
       "      <th>Employee Identifier</th>\n",
       "      <th>Salaries</th>\n",
       "      <th>Overtime</th>\n",
       "      <th>Other Salaries</th>\n",
       "      <th>Total Salary</th>\n",
       "      <th>Retirement</th>\n",
       "      <th>Health/Dental</th>\n",
       "      <th>Other Benefits</th>\n",
       "      <th>Total Benefits</th>\n",
       "      <th>Total Compensation</th>\n",
       "    </tr>\n",
       "  </thead>\n",
       "  <tbody>\n",
       "    <tr>\n",
       "      <th>0</th>\n",
       "      <td>Calendar</td>\n",
       "      <td>2014</td>\n",
       "      <td>5</td>\n",
       "      <td>Culture &amp; Recreation</td>\n",
       "      <td>REC</td>\n",
       "      <td>Recreation and Park Commission</td>\n",
       "      <td>261.0</td>\n",
       "      <td>Laborers, Local 261</td>\n",
       "      <td>3400</td>\n",
       "      <td>Agriculture &amp; Horticulture</td>\n",
       "      <td>...</td>\n",
       "      <td>23029</td>\n",
       "      <td>63978.00</td>\n",
       "      <td>17039.61</td>\n",
       "      <td>2184.23</td>\n",
       "      <td>83201.84</td>\n",
       "      <td>14287.99</td>\n",
       "      <td>13054.95</td>\n",
       "      <td>6721.63</td>\n",
       "      <td>34064.57</td>\n",
       "      <td>117266.41</td>\n",
       "    </tr>\n",
       "    <tr>\n",
       "      <th>1</th>\n",
       "      <td>Calendar</td>\n",
       "      <td>2016</td>\n",
       "      <td>5</td>\n",
       "      <td>Culture &amp; Recreation</td>\n",
       "      <td>FAM</td>\n",
       "      <td>Fine Arts Museum</td>\n",
       "      <td>39.0</td>\n",
       "      <td>Stationary Engineers, Local 39</td>\n",
       "      <td>7100</td>\n",
       "      <td>Administrative-Labor &amp; Trades</td>\n",
       "      <td>...</td>\n",
       "      <td>20763</td>\n",
       "      <td>133977.95</td>\n",
       "      <td>20699.15</td>\n",
       "      <td>0.00</td>\n",
       "      <td>154677.10</td>\n",
       "      <td>24039.10</td>\n",
       "      <td>13890.30</td>\n",
       "      <td>10671.44</td>\n",
       "      <td>48600.84</td>\n",
       "      <td>203277.94</td>\n",
       "    </tr>\n",
       "    <tr>\n",
       "      <th>2</th>\n",
       "      <td>Calendar</td>\n",
       "      <td>2013</td>\n",
       "      <td>2</td>\n",
       "      <td>Public Works, Transportation &amp; Commerce</td>\n",
       "      <td>CWP</td>\n",
       "      <td>PUC Wastewater Enterprise</td>\n",
       "      <td>39.0</td>\n",
       "      <td>Stationary Engineers, Local 39</td>\n",
       "      <td>7300</td>\n",
       "      <td>Journeyman Trade</td>\n",
       "      <td>...</td>\n",
       "      <td>8705</td>\n",
       "      <td>86530.02</td>\n",
       "      <td>17962.95</td>\n",
       "      <td>10555.21</td>\n",
       "      <td>115048.18</td>\n",
       "      <td>18665.90</td>\n",
       "      <td>12918.24</td>\n",
       "      <td>9328.44</td>\n",
       "      <td>40912.58</td>\n",
       "      <td>155960.76</td>\n",
       "    </tr>\n",
       "    <tr>\n",
       "      <th>3</th>\n",
       "      <td>Calendar</td>\n",
       "      <td>2015</td>\n",
       "      <td>1</td>\n",
       "      <td>Public Protection</td>\n",
       "      <td>POL</td>\n",
       "      <td>Police</td>\n",
       "      <td>911.0</td>\n",
       "      <td>Police Officers' Association</td>\n",
       "      <td>Q000</td>\n",
       "      <td>Police Services</td>\n",
       "      <td>...</td>\n",
       "      <td>13888</td>\n",
       "      <td>117139.22</td>\n",
       "      <td>20576.29</td>\n",
       "      <td>5747.49</td>\n",
       "      <td>143463.00</td>\n",
       "      <td>23170.33</td>\n",
       "      <td>12424.51</td>\n",
       "      <td>2240.80</td>\n",
       "      <td>37835.64</td>\n",
       "      <td>181298.64</td>\n",
       "    </tr>\n",
       "    <tr>\n",
       "      <th>4</th>\n",
       "      <td>Calendar</td>\n",
       "      <td>2015</td>\n",
       "      <td>1</td>\n",
       "      <td>Public Protection</td>\n",
       "      <td>FIR</td>\n",
       "      <td>Fire Department</td>\n",
       "      <td>798.0</td>\n",
       "      <td>Firefighters - Miscellaneous, Local 798</td>\n",
       "      <td>H000</td>\n",
       "      <td>Fire Services</td>\n",
       "      <td>...</td>\n",
       "      <td>38574</td>\n",
       "      <td>130341.65</td>\n",
       "      <td>29607.28</td>\n",
       "      <td>16292.82</td>\n",
       "      <td>176241.75</td>\n",
       "      <td>28793.64</td>\n",
       "      <td>15052.76</td>\n",
       "      <td>2995.69</td>\n",
       "      <td>46842.09</td>\n",
       "      <td>223083.84</td>\n",
       "    </tr>\n",
       "  </tbody>\n",
       "</table>\n",
       "<p>5 rows × 22 columns</p>\n",
       "</div>"
      ],
      "text/plain": [
       "  Year Type  Year  Organization Group Code  \\\n",
       "0  Calendar  2014                        5   \n",
       "1  Calendar  2016                        5   \n",
       "2  Calendar  2013                        2   \n",
       "3  Calendar  2015                        1   \n",
       "4  Calendar  2015                        1   \n",
       "\n",
       "                        Organization Group Department Code  \\\n",
       "0                     Culture & Recreation             REC   \n",
       "1                     Culture & Recreation             FAM   \n",
       "2  Public Works, Transportation & Commerce             CWP   \n",
       "3                        Public Protection             POL   \n",
       "4                        Public Protection             FIR   \n",
       "\n",
       "                       Department  Union Code  \\\n",
       "0  Recreation and Park Commission       261.0   \n",
       "1                Fine Arts Museum        39.0   \n",
       "2       PUC Wastewater Enterprise        39.0   \n",
       "3                          Police       911.0   \n",
       "4                 Fire Department       798.0   \n",
       "\n",
       "                                     Union Job Family Code  \\\n",
       "0                      Laborers, Local 261            3400   \n",
       "1           Stationary Engineers, Local 39            7100   \n",
       "2           Stationary Engineers, Local 39            7300   \n",
       "3             Police Officers' Association            Q000   \n",
       "4  Firefighters - Miscellaneous, Local 798            H000   \n",
       "\n",
       "                      Job Family         ...         Employee Identifier  \\\n",
       "0     Agriculture & Horticulture         ...                       23029   \n",
       "1  Administrative-Labor & Trades         ...                       20763   \n",
       "2               Journeyman Trade         ...                        8705   \n",
       "3                Police Services         ...                       13888   \n",
       "4                  Fire Services         ...                       38574   \n",
       "\n",
       "    Salaries  Overtime  Other Salaries  Total Salary  Retirement  \\\n",
       "0   63978.00  17039.61         2184.23      83201.84    14287.99   \n",
       "1  133977.95  20699.15            0.00     154677.10    24039.10   \n",
       "2   86530.02  17962.95        10555.21     115048.18    18665.90   \n",
       "3  117139.22  20576.29         5747.49     143463.00    23170.33   \n",
       "4  130341.65  29607.28        16292.82     176241.75    28793.64   \n",
       "\n",
       "   Health/Dental  Other Benefits  Total Benefits  Total Compensation  \n",
       "0       13054.95         6721.63        34064.57           117266.41  \n",
       "1       13890.30        10671.44        48600.84           203277.94  \n",
       "2       12918.24         9328.44        40912.58           155960.76  \n",
       "3       12424.51         2240.80        37835.64           181298.64  \n",
       "4       15052.76         2995.69        46842.09           223083.84  \n",
       "\n",
       "[5 rows x 22 columns]"
      ]
     },
     "execution_count": 5,
     "metadata": {},
     "output_type": "execute_result"
    }
   ],
   "source": [
    "rate = 0.05\n",
    "ot_df = df[df['Overtime'] > rate*df['Salaries']].reset_index(drop=True)\n",
    "ot_df.head()     #people whose overtime is greater than 5% of salaries"
   ]
  },
  {
   "cell_type": "code",
   "execution_count": 6,
   "metadata": {
    "collapsed": false
   },
   "outputs": [
    {
     "data": {
      "text/html": [
       "<div>\n",
       "<table border=\"1\" class=\"dataframe\">\n",
       "  <thead>\n",
       "    <tr style=\"text-align: right;\">\n",
       "      <th></th>\n",
       "      <th>Total Benefits</th>\n",
       "      <th>Total Compensation</th>\n",
       "      <th>Percent_Total_Benefit</th>\n",
       "    </tr>\n",
       "    <tr>\n",
       "      <th>Job Family</th>\n",
       "      <th></th>\n",
       "      <th></th>\n",
       "      <th></th>\n",
       "    </tr>\n",
       "  </thead>\n",
       "  <tbody>\n",
       "    <tr>\n",
       "      <th>Public Service Aide</th>\n",
       "      <td>5267.903671</td>\n",
       "      <td>14956.280236</td>\n",
       "      <td>0.352220</td>\n",
       "    </tr>\n",
       "    <tr>\n",
       "      <th>Park &amp; Zoo</th>\n",
       "      <td>17946.662641</td>\n",
       "      <td>54776.310325</td>\n",
       "      <td>0.327635</td>\n",
       "    </tr>\n",
       "    <tr>\n",
       "      <th>Housekeeping &amp; Laundry</th>\n",
       "      <td>24286.767749</td>\n",
       "      <td>74189.739399</td>\n",
       "      <td>0.327360</td>\n",
       "    </tr>\n",
       "    <tr>\n",
       "      <th>Clerical, Secretarial &amp; Steno</th>\n",
       "      <td>21549.044311</td>\n",
       "      <td>66517.545454</td>\n",
       "      <td>0.323960</td>\n",
       "    </tr>\n",
       "    <tr>\n",
       "      <th>Dietary &amp; Food</th>\n",
       "      <td>19673.743314</td>\n",
       "      <td>61537.993465</td>\n",
       "      <td>0.319701</td>\n",
       "    </tr>\n",
       "  </tbody>\n",
       "</table>\n",
       "</div>"
      ],
      "text/plain": [
       "                               Total Benefits  Total Compensation  \\\n",
       "Job Family                                                          \n",
       "Public Service Aide               5267.903671        14956.280236   \n",
       "Park & Zoo                       17946.662641        54776.310325   \n",
       "Housekeeping & Laundry           24286.767749        74189.739399   \n",
       "Clerical, Secretarial & Steno    21549.044311        66517.545454   \n",
       "Dietary & Food                   19673.743314        61537.993465   \n",
       "\n",
       "                               Percent_Total_Benefit  \n",
       "Job Family                                            \n",
       "Public Service Aide                         0.352220  \n",
       "Park & Zoo                                  0.327635  \n",
       "Housekeeping & Laundry                      0.327360  \n",
       "Clerical, Secretarial & Steno               0.323960  \n",
       "Dietary & Food                              0.319701  "
      ]
     },
     "execution_count": 6,
     "metadata": {},
     "output_type": "execute_result"
    }
   ],
   "source": [
    "benefit_df = df.groupby('Job Family')['Total Benefits','Total Compensation'].mean()\n",
    "benefit_df['Percent_Total_Benefit'] = benefit_df['Total Benefits']/benefit_df['Total Compensation']\n",
    "benefit_df = benefit_df.sort_values(by = 'Percent_Total_Benefit', ascending=False)\n",
    "benefit_df.head()    #group by Job Family and sort"
   ]
  },
  {
   "cell_type": "code",
   "execution_count": 7,
   "metadata": {
    "collapsed": true
   },
   "outputs": [],
   "source": [
    "benefit_df.to_csv('Q2_Part_2.csv', sep=',', index=True)"
   ]
  }
 ],
 "metadata": {
  "anaconda-cloud": {},
  "kernelspec": {
   "display_name": "Python [conda root]",
   "language": "python",
   "name": "conda-root-py"
  },
  "language_info": {
   "codemirror_mode": {
    "name": "ipython",
    "version": 3
   },
   "file_extension": ".py",
   "mimetype": "text/x-python",
   "name": "python",
   "nbconvert_exporter": "python",
   "pygments_lexer": "ipython3",
   "version": "3.5.2"
  }
 },
 "nbformat": 4,
 "nbformat_minor": 1
}
