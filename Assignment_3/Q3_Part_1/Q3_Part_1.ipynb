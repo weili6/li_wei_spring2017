{
 "cells": [
  {
   "cell_type": "markdown",
   "metadata": {},
   "source": [
    "# Question 3 Part 1\n",
    "- Use ‘cricket_matches’ data set.\n",
    "- Calculate the average score for each team which host the game and win the game.\n",
    "- Remember that if a team hosts a game and wins the game, their score can be innings_1 runs or innings_2 runs. You have to check if the host team won the game, check which innings they played in (innings_1 or innings_2), and take the runs scored in that innings. The final answer is the average score of each team satisfying the above condition.\n",
    "- Display a few rows of the output use df.head()\n",
    "- Generate a csv output."
   ]
  },
  {
   "cell_type": "code",
   "execution_count": 18,
   "metadata": {
    "collapsed": true
   },
   "outputs": [],
   "source": [
    "import pandas as pd"
   ]
  },
  {
   "cell_type": "code",
   "execution_count": 19,
   "metadata": {
    "collapsed": true
   },
   "outputs": [],
   "source": [
    "cm = pd.read_csv('/Users/lizhiming/Desktop/Assignment 3/Data/cricket_matches.csv', sep=',')"
   ]
  },
  {
   "cell_type": "code",
   "execution_count": 20,
   "metadata": {
    "collapsed": false
   },
   "outputs": [
    {
     "data": {
      "text/html": [
       "<div>\n",
       "<table border=\"1\" class=\"dataframe\">\n",
       "  <thead>\n",
       "    <tr style=\"text-align: right;\">\n",
       "      <th></th>\n",
       "      <th>match_details</th>\n",
       "      <th>result</th>\n",
       "      <th>scores</th>\n",
       "      <th>date</th>\n",
       "      <th>venue</th>\n",
       "      <th>round</th>\n",
       "      <th>home</th>\n",
       "      <th>away</th>\n",
       "      <th>winner</th>\n",
       "      <th>win_by_runs</th>\n",
       "      <th>...</th>\n",
       "      <th>innings1_wickets</th>\n",
       "      <th>innings1_overs_batted</th>\n",
       "      <th>innings1_overs</th>\n",
       "      <th>innings2</th>\n",
       "      <th>innings2_runs</th>\n",
       "      <th>innings2_wickets</th>\n",
       "      <th>innings2_overs_batted</th>\n",
       "      <th>innings2_overs</th>\n",
       "      <th>D/L_method</th>\n",
       "      <th>target</th>\n",
       "    </tr>\n",
       "  </thead>\n",
       "  <tbody>\n",
       "    <tr>\n",
       "      <th>0</th>\n",
       "      <td>North Group:Durham v Nottinghamshire at Cheste...</td>\n",
       "      <td>Durham won by 6 wickets (with 5 balls remaining)</td>\n",
       "      <td>Nottinghamshire 157/7 (20/20 ov); Durham 160/4...</td>\n",
       "      <td>13/06/2003</td>\n",
       "      <td>Chester-le-Street</td>\n",
       "      <td>North Group</td>\n",
       "      <td>Durham</td>\n",
       "      <td>Nottinghamshire</td>\n",
       "      <td>Durham</td>\n",
       "      <td>NaN</td>\n",
       "      <td>...</td>\n",
       "      <td>7.0</td>\n",
       "      <td>20.0</td>\n",
       "      <td>20.0</td>\n",
       "      <td>Durham</td>\n",
       "      <td>160.0</td>\n",
       "      <td>4.0</td>\n",
       "      <td>19.1</td>\n",
       "      <td>20.0</td>\n",
       "      <td>NaN</td>\n",
       "      <td>NaN</td>\n",
       "    </tr>\n",
       "    <tr>\n",
       "      <th>1</th>\n",
       "      <td>South Group:Hampshire v Sussex at Southampton-...</td>\n",
       "      <td>Hampshire won by 5 runs</td>\n",
       "      <td>Hampshire 153 (19.4/20 ov); Sussex 148/7 (20/2...</td>\n",
       "      <td>13/06/2003</td>\n",
       "      <td>Southampton</td>\n",
       "      <td>South Group</td>\n",
       "      <td>Hampshire</td>\n",
       "      <td>Sussex</td>\n",
       "      <td>Hampshire</td>\n",
       "      <td>5.0</td>\n",
       "      <td>...</td>\n",
       "      <td>10.0</td>\n",
       "      <td>19.4</td>\n",
       "      <td>20.0</td>\n",
       "      <td>Sussex</td>\n",
       "      <td>148.0</td>\n",
       "      <td>7.0</td>\n",
       "      <td>20.0</td>\n",
       "      <td>20.0</td>\n",
       "      <td>NaN</td>\n",
       "      <td>NaN</td>\n",
       "    </tr>\n",
       "    <tr>\n",
       "      <th>2</th>\n",
       "      <td>Midlands/Wales/West Group:Somerset v Warwicksh...</td>\n",
       "      <td>Warwickshire won by 19 runs</td>\n",
       "      <td>Warwickshire 188/7 (20/20 ov); Somerset 169 (2...</td>\n",
       "      <td>13/06/2003</td>\n",
       "      <td>Taunton</td>\n",
       "      <td>Midlands/Wales/West Group</td>\n",
       "      <td>Somerset</td>\n",
       "      <td>Warwickshire</td>\n",
       "      <td>Warwickshire</td>\n",
       "      <td>19.0</td>\n",
       "      <td>...</td>\n",
       "      <td>7.0</td>\n",
       "      <td>20.0</td>\n",
       "      <td>20.0</td>\n",
       "      <td>Somerset</td>\n",
       "      <td>169.0</td>\n",
       "      <td>10.0</td>\n",
       "      <td>20.0</td>\n",
       "      <td>20.0</td>\n",
       "      <td>NaN</td>\n",
       "      <td>NaN</td>\n",
       "    </tr>\n",
       "    <tr>\n",
       "      <th>3</th>\n",
       "      <td>South Group:Surrey v Middlesex at The Oval- Ju...</td>\n",
       "      <td>Surrey won by 4 wickets (with 4 balls remaining)</td>\n",
       "      <td>Middlesex 155 (20/20 ov); Surrey 158/6 (19.2/2...</td>\n",
       "      <td>13/06/2003</td>\n",
       "      <td>The Oval</td>\n",
       "      <td>South Group</td>\n",
       "      <td>Surrey</td>\n",
       "      <td>Middlesex</td>\n",
       "      <td>Surrey</td>\n",
       "      <td>NaN</td>\n",
       "      <td>...</td>\n",
       "      <td>10.0</td>\n",
       "      <td>20.0</td>\n",
       "      <td>20.0</td>\n",
       "      <td>Surrey</td>\n",
       "      <td>158.0</td>\n",
       "      <td>6.0</td>\n",
       "      <td>19.2</td>\n",
       "      <td>20.0</td>\n",
       "      <td>NaN</td>\n",
       "      <td>NaN</td>\n",
       "    </tr>\n",
       "    <tr>\n",
       "      <th>4</th>\n",
       "      <td>Midlands/Wales/West Group:Worcestershire v Nor...</td>\n",
       "      <td>Worcestershire won by 1 wicket (with 2 balls r...</td>\n",
       "      <td>Northamptonshire 150/9 (20/20 ov); Worcestersh...</td>\n",
       "      <td>13/06/2003</td>\n",
       "      <td>Worcester</td>\n",
       "      <td>Midlands/Wales/West Group</td>\n",
       "      <td>Worcestershire</td>\n",
       "      <td>Northamptonshire</td>\n",
       "      <td>Worcestershire</td>\n",
       "      <td>NaN</td>\n",
       "      <td>...</td>\n",
       "      <td>9.0</td>\n",
       "      <td>20.0</td>\n",
       "      <td>20.0</td>\n",
       "      <td>Worcestershire</td>\n",
       "      <td>151.0</td>\n",
       "      <td>9.0</td>\n",
       "      <td>19.4</td>\n",
       "      <td>20.0</td>\n",
       "      <td>NaN</td>\n",
       "      <td>NaN</td>\n",
       "    </tr>\n",
       "  </tbody>\n",
       "</table>\n",
       "<p>5 rows × 24 columns</p>\n",
       "</div>"
      ],
      "text/plain": [
       "                                       match_details  \\\n",
       "0  North Group:Durham v Nottinghamshire at Cheste...   \n",
       "1  South Group:Hampshire v Sussex at Southampton-...   \n",
       "2  Midlands/Wales/West Group:Somerset v Warwicksh...   \n",
       "3  South Group:Surrey v Middlesex at The Oval- Ju...   \n",
       "4  Midlands/Wales/West Group:Worcestershire v Nor...   \n",
       "\n",
       "                                              result  \\\n",
       "0   Durham won by 6 wickets (with 5 balls remaining)   \n",
       "1                            Hampshire won by 5 runs   \n",
       "2                        Warwickshire won by 19 runs   \n",
       "3   Surrey won by 4 wickets (with 4 balls remaining)   \n",
       "4  Worcestershire won by 1 wicket (with 2 balls r...   \n",
       "\n",
       "                                              scores        date  \\\n",
       "0  Nottinghamshire 157/7 (20/20 ov); Durham 160/4...  13/06/2003   \n",
       "1  Hampshire 153 (19.4/20 ov); Sussex 148/7 (20/2...  13/06/2003   \n",
       "2  Warwickshire 188/7 (20/20 ov); Somerset 169 (2...  13/06/2003   \n",
       "3  Middlesex 155 (20/20 ov); Surrey 158/6 (19.2/2...  13/06/2003   \n",
       "4  Northamptonshire 150/9 (20/20 ov); Worcestersh...  13/06/2003   \n",
       "\n",
       "               venue                      round            home  \\\n",
       "0  Chester-le-Street                North Group          Durham   \n",
       "1        Southampton                South Group       Hampshire   \n",
       "2            Taunton  Midlands/Wales/West Group        Somerset   \n",
       "3           The Oval                South Group          Surrey   \n",
       "4          Worcester  Midlands/Wales/West Group  Worcestershire   \n",
       "\n",
       "               away          winner  win_by_runs   ...    innings1_wickets  \\\n",
       "0   Nottinghamshire          Durham          NaN   ...                 7.0   \n",
       "1            Sussex       Hampshire          5.0   ...                10.0   \n",
       "2      Warwickshire    Warwickshire         19.0   ...                 7.0   \n",
       "3         Middlesex          Surrey          NaN   ...                10.0   \n",
       "4  Northamptonshire  Worcestershire          NaN   ...                 9.0   \n",
       "\n",
       "   innings1_overs_batted innings1_overs        innings2  innings2_runs  \\\n",
       "0                   20.0           20.0          Durham          160.0   \n",
       "1                   19.4           20.0          Sussex          148.0   \n",
       "2                   20.0           20.0        Somerset          169.0   \n",
       "3                   20.0           20.0          Surrey          158.0   \n",
       "4                   20.0           20.0  Worcestershire          151.0   \n",
       "\n",
       "   innings2_wickets  innings2_overs_batted innings2_overs  D/L_method  target  \n",
       "0               4.0                   19.1           20.0         NaN     NaN  \n",
       "1               7.0                   20.0           20.0         NaN     NaN  \n",
       "2              10.0                   20.0           20.0         NaN     NaN  \n",
       "3               6.0                   19.2           20.0         NaN     NaN  \n",
       "4               9.0                   19.4           20.0         NaN     NaN  \n",
       "\n",
       "[5 rows x 24 columns]"
      ]
     },
     "execution_count": 20,
     "metadata": {},
     "output_type": "execute_result"
    }
   ],
   "source": [
    "cm.head()"
   ]
  },
  {
   "cell_type": "code",
   "execution_count": 21,
   "metadata": {
    "collapsed": false
   },
   "outputs": [],
   "source": [
    "df = cm[cm['home'] == cm['winner']].reset_index(drop =True)\n",
    "df['Score'] = 0"
   ]
  },
  {
   "cell_type": "code",
   "execution_count": 22,
   "metadata": {
    "collapsed": true
   },
   "outputs": [],
   "source": [
    "def get_score(row):\n",
    "    if row['winner'] == row['innings1']:\n",
    "        row['Score'] = row['innings1_runs']\n",
    "        return row\n",
    "    else:\n",
    "        row['Score'] = row['innings2_runs']\n",
    "        return row"
   ]
  },
  {
   "cell_type": "code",
   "execution_count": 23,
   "metadata": {
    "collapsed": false
   },
   "outputs": [],
   "source": [
    "df = df.apply(lambda x: get_score(x), axis =1)[['home','Score']]"
   ]
  },
  {
   "cell_type": "code",
   "execution_count": 34,
   "metadata": {
    "collapsed": false
   },
   "outputs": [
    {
     "data": {
      "text/html": [
       "<div>\n",
       "<table border=\"1\" class=\"dataframe\">\n",
       "  <thead>\n",
       "    <tr style=\"text-align: right;\">\n",
       "      <th></th>\n",
       "      <th>home</th>\n",
       "      <th>Score</th>\n",
       "    </tr>\n",
       "  </thead>\n",
       "  <tbody>\n",
       "    <tr>\n",
       "      <th>0</th>\n",
       "      <td>Abahani Limited</td>\n",
       "      <td>172.000000</td>\n",
       "    </tr>\n",
       "    <tr>\n",
       "      <th>1</th>\n",
       "      <td>Abbottabad Falcons</td>\n",
       "      <td>139.454545</td>\n",
       "    </tr>\n",
       "    <tr>\n",
       "      <th>2</th>\n",
       "      <td>Abbottabad Region</td>\n",
       "      <td>182.666667</td>\n",
       "    </tr>\n",
       "    <tr>\n",
       "      <th>3</th>\n",
       "      <td>Abbottabad Rhinos</td>\n",
       "      <td>165.000000</td>\n",
       "    </tr>\n",
       "    <tr>\n",
       "      <th>4</th>\n",
       "      <td>Adelaide Strikers</td>\n",
       "      <td>163.111111</td>\n",
       "    </tr>\n",
       "  </tbody>\n",
       "</table>\n",
       "</div>"
      ],
      "text/plain": [
       "                 home       Score\n",
       "0     Abahani Limited  172.000000\n",
       "1  Abbottabad Falcons  139.454545\n",
       "2   Abbottabad Region  182.666667\n",
       "3   Abbottabad Rhinos  165.000000\n",
       "4   Adelaide Strikers  163.111111"
      ]
     },
     "execution_count": 34,
     "metadata": {},
     "output_type": "execute_result"
    }
   ],
   "source": [
    "df = df.groupby('home',as_index=False).mean()\n",
    "df.head()"
   ]
  },
  {
   "cell_type": "code",
   "execution_count": 35,
   "metadata": {
    "collapsed": true
   },
   "outputs": [],
   "source": [
    "df.to_csv('Q3_Part_1.csv', sep=',', index=False)"
   ]
  },
  {
   "cell_type": "code",
   "execution_count": null,
   "metadata": {
    "collapsed": true
   },
   "outputs": [],
   "source": []
  }
 ],
 "metadata": {
  "kernelspec": {
   "display_name": "Python [conda root]",
   "language": "python",
   "name": "conda-root-py"
  },
  "language_info": {
   "codemirror_mode": {
    "name": "ipython",
    "version": 3
   },
   "file_extension": ".py",
   "mimetype": "text/x-python",
   "name": "python",
   "nbconvert_exporter": "python",
   "pygments_lexer": "ipython3",
   "version": "3.5.2"
  }
 },
 "nbformat": 4,
 "nbformat_minor": 1
}
