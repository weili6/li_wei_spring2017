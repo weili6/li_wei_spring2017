{
 "cells": [
  {
   "cell_type": "markdown",
   "metadata": {},
   "source": [
    "# Question 4 Part 1\n",
    "- Use ‘movies_awards’ data set.\n",
    "- You are supposed to extract data from the awards column in this dataset and split it into several columns. An example is given below.\n",
    "- The awards has details of wins, nominations in general and also wins and nominations in certain categories(e.g. Oscar, BAFTA etc.)\n",
    "- You are supposed to create a win and nominated column (these 2 columns contain total number of wins and nominations) and other columns that extract the number of wins and nominations for each category of award.\n",
    "- If a movie has 2 Oscar nominations and 4 Oscar won, the columns Oscar_Awards_Won should have value 4 and Oscar_Awards_Nominated should have value 2. You should also have a total won and nominated column which aggregates all the awards (won or nominated).\n",
    "- Create two separate columns for each award category (won and nominated).\n",
    "- Write your output to a csv file."
   ]
  },
  {
   "cell_type": "code",
   "execution_count": 18,
   "metadata": {
    "collapsed": true
   },
   "outputs": [],
   "source": [
    "import pandas as pd"
   ]
  },
  {
   "cell_type": "code",
   "execution_count": 19,
   "metadata": {
    "collapsed": false
   },
   "outputs": [],
   "source": [
    "ma = pd.read_csv('../Data/movies_awards.csv', sep=',')"
   ]
  },
  {
   "cell_type": "code",
   "execution_count": 20,
   "metadata": {
    "collapsed": false
   },
   "outputs": [],
   "source": [
    "ma = ma[ma['Awards'].notnull()]        #find all movies which have awards\n",
    "ma['Awards_won'] = ma['Awards'].str.extract('(\\d+) win', expand=True)    #extract the number of awards won\n",
    "ma['Awards_nominated'] = ma['Awards'].str.extract('(\\d+) nomination', expand=True)  #extract the number of awards nominated"
   ]
  },
  {
   "cell_type": "code",
   "execution_count": 21,
   "metadata": {
    "collapsed": true
   },
   "outputs": [],
   "source": [
    "def strip_plural(title):\n",
    "    if str(title).endswith('s'):\n",
    "        return str(title)[:-1]\n",
    "    else:\n",
    "        return str(title)         #define a function to strip 's' for plural"
   ]
  },
  {
   "cell_type": "code",
   "execution_count": 22,
   "metadata": {
    "collapsed": false
   },
   "outputs": [],
   "source": [
    "ma[['Won_num','Won_name']] = ma['Awards'].str.extract('Won (\\d+) (.*). Another', expand=True)   #extract the name and number of awards won\n",
    "ma[['Nominated_num','Nominated_name']]= ma['Awards'].str.extract('Nominated for (\\d+) (.*). Another', expand=True)  #extract the name and number of awards nominated"
   ]
  },
  {
   "cell_type": "code",
   "execution_count": 23,
   "metadata": {
    "collapsed": false
   },
   "outputs": [],
   "source": [
    "ma['Won_name']= ma['Won_name'].apply(lambda x: strip_plural(x))\n",
    "ma['Nominated_name']= ma['Nominated_name'].apply(lambda x: strip_plural(x))"
   ]
  },
  {
   "cell_type": "code",
   "execution_count": 24,
   "metadata": {
    "collapsed": false
   },
   "outputs": [],
   "source": [
    "ma = ma.drop_duplicates()        #drop all duplicated entries\n",
    "df1 = ma[['imdbID','Won_name','Won_num']]\n",
    "df1 = df1.pivot(index = 'imdbID', columns='Won_name', values='Won_num').drop(['nan'],1)\n",
    "df1 = df1.add_suffix('_won')           #pivot dataframe so that the unique values in won_name volumn will be convert to new column names\n",
    "\n",
    "df2 = ma[['imdbID','Nominated_name','Nominated_num']]\n",
    "df2 = df2.pivot(index = 'imdbID', columns='Nominated_name', values='Nominated_num').drop(['nan'],1)\n",
    "df2 = df2.add_suffix('_nominated')"
   ]
  },
  {
   "cell_type": "code",
   "execution_count": 25,
   "metadata": {
    "collapsed": false
   },
   "outputs": [],
   "source": [
    "df = pd.concat([df1,df2],axis =1)    "
   ]
  },
  {
   "cell_type": "code",
   "execution_count": 26,
   "metadata": {
    "collapsed": false
   },
   "outputs": [
    {
     "data": {
      "text/html": [
       "<div>\n",
       "<table border=\"1\" class=\"dataframe\">\n",
       "  <thead>\n",
       "    <tr style=\"text-align: right;\">\n",
       "      <th></th>\n",
       "      <th>Title</th>\n",
       "      <th>Awards</th>\n",
       "      <th>Awards_won</th>\n",
       "      <th>Won_num</th>\n",
       "      <th>Awards_nominated</th>\n",
       "      <th>Nominated_num</th>\n",
       "      <th>Golden Globe_won</th>\n",
       "      <th>Oscar_won</th>\n",
       "      <th>Primetime Emmy_won</th>\n",
       "      <th>BAFTA Film Award_nominated</th>\n",
       "      <th>Golden Globe_nominated</th>\n",
       "      <th>Oscar_nominated</th>\n",
       "      <th>Primetime Emmy_nominated</th>\n",
       "    </tr>\n",
       "    <tr>\n",
       "      <th>imdbID</th>\n",
       "      <th></th>\n",
       "      <th></th>\n",
       "      <th></th>\n",
       "      <th></th>\n",
       "      <th></th>\n",
       "      <th></th>\n",
       "      <th></th>\n",
       "      <th></th>\n",
       "      <th></th>\n",
       "      <th></th>\n",
       "      <th></th>\n",
       "      <th></th>\n",
       "      <th></th>\n",
       "    </tr>\n",
       "  </thead>\n",
       "  <tbody>\n",
       "    <tr>\n",
       "      <th>tt0038650</th>\n",
       "      <td>It's a Wonderful Life</td>\n",
       "      <td>Nominated for 5 Oscars. Another 6 wins &amp; 1 nom...</td>\n",
       "      <td>6</td>\n",
       "      <td>NaN</td>\n",
       "      <td>1</td>\n",
       "      <td>5</td>\n",
       "      <td>None</td>\n",
       "      <td>None</td>\n",
       "      <td>None</td>\n",
       "      <td>None</td>\n",
       "      <td>None</td>\n",
       "      <td>5</td>\n",
       "      <td>None</td>\n",
       "    </tr>\n",
       "    <tr>\n",
       "      <th>tt0062622</th>\n",
       "      <td>2001: A Space Odyssey</td>\n",
       "      <td>Won 1 Oscar. Another 13 wins &amp; 7 nominations.</td>\n",
       "      <td>13</td>\n",
       "      <td>1</td>\n",
       "      <td>7</td>\n",
       "      <td>NaN</td>\n",
       "      <td>None</td>\n",
       "      <td>1</td>\n",
       "      <td>None</td>\n",
       "      <td>None</td>\n",
       "      <td>None</td>\n",
       "      <td>None</td>\n",
       "      <td>None</td>\n",
       "    </tr>\n",
       "    <tr>\n",
       "      <th>tt0070992</th>\n",
       "      <td>Happy Days</td>\n",
       "      <td>Won 3 Golden Globes. Another 13 wins &amp; 19 nomi...</td>\n",
       "      <td>13</td>\n",
       "      <td>3</td>\n",
       "      <td>19</td>\n",
       "      <td>NaN</td>\n",
       "      <td>3</td>\n",
       "      <td>None</td>\n",
       "      <td>None</td>\n",
       "      <td>None</td>\n",
       "      <td>None</td>\n",
       "      <td>None</td>\n",
       "      <td>None</td>\n",
       "    </tr>\n",
       "    <tr>\n",
       "      <th>tt0076759</th>\n",
       "      <td>Star Wars: Episode IV - A New Hope</td>\n",
       "      <td>Won 6 Oscars. Another 48 wins &amp; 28 nominations.</td>\n",
       "      <td>48</td>\n",
       "      <td>6</td>\n",
       "      <td>28</td>\n",
       "      <td>NaN</td>\n",
       "      <td>None</td>\n",
       "      <td>6</td>\n",
       "      <td>None</td>\n",
       "      <td>None</td>\n",
       "      <td>None</td>\n",
       "      <td>None</td>\n",
       "      <td>None</td>\n",
       "    </tr>\n",
       "    <tr>\n",
       "      <th>tt0077687</th>\n",
       "      <td>The Hobbit</td>\n",
       "      <td>1 win &amp; 2 nominations.</td>\n",
       "      <td>1</td>\n",
       "      <td>NaN</td>\n",
       "      <td>2</td>\n",
       "      <td>NaN</td>\n",
       "      <td>None</td>\n",
       "      <td>None</td>\n",
       "      <td>None</td>\n",
       "      <td>None</td>\n",
       "      <td>None</td>\n",
       "      <td>None</td>\n",
       "      <td>None</td>\n",
       "    </tr>\n",
       "  </tbody>\n",
       "</table>\n",
       "</div>"
      ],
      "text/plain": [
       "                                        Title  \\\n",
       "imdbID                                          \n",
       "tt0038650               It's a Wonderful Life   \n",
       "tt0062622               2001: A Space Odyssey   \n",
       "tt0070992                          Happy Days   \n",
       "tt0076759  Star Wars: Episode IV - A New Hope   \n",
       "tt0077687                          The Hobbit   \n",
       "\n",
       "                                                      Awards Awards_won  \\\n",
       "imdbID                                                                    \n",
       "tt0038650  Nominated for 5 Oscars. Another 6 wins & 1 nom...          6   \n",
       "tt0062622      Won 1 Oscar. Another 13 wins & 7 nominations.         13   \n",
       "tt0070992  Won 3 Golden Globes. Another 13 wins & 19 nomi...         13   \n",
       "tt0076759    Won 6 Oscars. Another 48 wins & 28 nominations.         48   \n",
       "tt0077687                             1 win & 2 nominations.          1   \n",
       "\n",
       "          Won_num Awards_nominated Nominated_num Golden Globe_won Oscar_won  \\\n",
       "imdbID                                                                        \n",
       "tt0038650     NaN                1             5             None      None   \n",
       "tt0062622       1                7           NaN             None         1   \n",
       "tt0070992       3               19           NaN                3      None   \n",
       "tt0076759       6               28           NaN             None         6   \n",
       "tt0077687     NaN                2           NaN             None      None   \n",
       "\n",
       "          Primetime Emmy_won BAFTA Film Award_nominated  \\\n",
       "imdbID                                                    \n",
       "tt0038650               None                       None   \n",
       "tt0062622               None                       None   \n",
       "tt0070992               None                       None   \n",
       "tt0076759               None                       None   \n",
       "tt0077687               None                       None   \n",
       "\n",
       "          Golden Globe_nominated Oscar_nominated Primetime Emmy_nominated  \n",
       "imdbID                                                                     \n",
       "tt0038650                   None               5                     None  \n",
       "tt0062622                   None            None                     None  \n",
       "tt0070992                   None            None                     None  \n",
       "tt0076759                   None            None                     None  \n",
       "tt0077687                   None            None                     None  "
      ]
     },
     "execution_count": 26,
     "metadata": {},
     "output_type": "execute_result"
    }
   ],
   "source": [
    "sub_df = ma[['imdbID','Title','Awards','Awards_won','Won_num','Awards_nominated','Nominated_num']].sort_values(by='imdbID')\n",
    "sub_df.set_index('imdbID',inplace=True)\n",
    "result_df = sub_df.join(df, how='inner')\n",
    "result_df.head()         #merge all sub-dataframes"
   ]
  },
  {
   "cell_type": "code",
   "execution_count": 27,
   "metadata": {
    "collapsed": false
   },
   "outputs": [],
   "source": [
    "result_df = result_df.fillna(0)"
   ]
  },
  {
   "cell_type": "code",
   "execution_count": 28,
   "metadata": {
    "collapsed": false
   },
   "outputs": [],
   "source": [
    "result_df['Awards_won'] = result_df['Awards_won'].astype(int) + result_df['Won_num'].astype(int)   #calculate total awards won for each movie\n",
    "result_df['Awards_nominated'] = result_df['Awards_nominated'].astype(int) + result_df['Nominated_num'].astype(int)  #calculate total awards nominated for each movie"
   ]
  },
  {
   "cell_type": "code",
   "execution_count": 29,
   "metadata": {
    "collapsed": false
   },
   "outputs": [
    {
     "data": {
      "text/html": [
       "<div>\n",
       "<table border=\"1\" class=\"dataframe\">\n",
       "  <thead>\n",
       "    <tr style=\"text-align: right;\">\n",
       "      <th></th>\n",
       "      <th>Title</th>\n",
       "      <th>Awards</th>\n",
       "      <th>Awards_won</th>\n",
       "      <th>Awards_nominated</th>\n",
       "      <th>Golden Globe_won</th>\n",
       "      <th>Oscar_won</th>\n",
       "      <th>Primetime Emmy_won</th>\n",
       "      <th>BAFTA Film Award_nominated</th>\n",
       "      <th>Golden Globe_nominated</th>\n",
       "      <th>Oscar_nominated</th>\n",
       "      <th>Primetime Emmy_nominated</th>\n",
       "    </tr>\n",
       "    <tr>\n",
       "      <th>imdbID</th>\n",
       "      <th></th>\n",
       "      <th></th>\n",
       "      <th></th>\n",
       "      <th></th>\n",
       "      <th></th>\n",
       "      <th></th>\n",
       "      <th></th>\n",
       "      <th></th>\n",
       "      <th></th>\n",
       "      <th></th>\n",
       "      <th></th>\n",
       "    </tr>\n",
       "  </thead>\n",
       "  <tbody>\n",
       "    <tr>\n",
       "      <th>tt0038650</th>\n",
       "      <td>It's a Wonderful Life</td>\n",
       "      <td>Nominated for 5 Oscars. Another 6 wins &amp; 1 nom...</td>\n",
       "      <td>6</td>\n",
       "      <td>6</td>\n",
       "      <td>0</td>\n",
       "      <td>0</td>\n",
       "      <td>0</td>\n",
       "      <td>0</td>\n",
       "      <td>0</td>\n",
       "      <td>5</td>\n",
       "      <td>0</td>\n",
       "    </tr>\n",
       "    <tr>\n",
       "      <th>tt0062622</th>\n",
       "      <td>2001: A Space Odyssey</td>\n",
       "      <td>Won 1 Oscar. Another 13 wins &amp; 7 nominations.</td>\n",
       "      <td>14</td>\n",
       "      <td>7</td>\n",
       "      <td>0</td>\n",
       "      <td>1</td>\n",
       "      <td>0</td>\n",
       "      <td>0</td>\n",
       "      <td>0</td>\n",
       "      <td>0</td>\n",
       "      <td>0</td>\n",
       "    </tr>\n",
       "    <tr>\n",
       "      <th>tt0070992</th>\n",
       "      <td>Happy Days</td>\n",
       "      <td>Won 3 Golden Globes. Another 13 wins &amp; 19 nomi...</td>\n",
       "      <td>16</td>\n",
       "      <td>19</td>\n",
       "      <td>3</td>\n",
       "      <td>0</td>\n",
       "      <td>0</td>\n",
       "      <td>0</td>\n",
       "      <td>0</td>\n",
       "      <td>0</td>\n",
       "      <td>0</td>\n",
       "    </tr>\n",
       "    <tr>\n",
       "      <th>tt0076759</th>\n",
       "      <td>Star Wars: Episode IV - A New Hope</td>\n",
       "      <td>Won 6 Oscars. Another 48 wins &amp; 28 nominations.</td>\n",
       "      <td>54</td>\n",
       "      <td>28</td>\n",
       "      <td>0</td>\n",
       "      <td>6</td>\n",
       "      <td>0</td>\n",
       "      <td>0</td>\n",
       "      <td>0</td>\n",
       "      <td>0</td>\n",
       "      <td>0</td>\n",
       "    </tr>\n",
       "    <tr>\n",
       "      <th>tt0077687</th>\n",
       "      <td>The Hobbit</td>\n",
       "      <td>1 win &amp; 2 nominations.</td>\n",
       "      <td>1</td>\n",
       "      <td>2</td>\n",
       "      <td>0</td>\n",
       "      <td>0</td>\n",
       "      <td>0</td>\n",
       "      <td>0</td>\n",
       "      <td>0</td>\n",
       "      <td>0</td>\n",
       "      <td>0</td>\n",
       "    </tr>\n",
       "  </tbody>\n",
       "</table>\n",
       "</div>"
      ],
      "text/plain": [
       "                                        Title  \\\n",
       "imdbID                                          \n",
       "tt0038650               It's a Wonderful Life   \n",
       "tt0062622               2001: A Space Odyssey   \n",
       "tt0070992                          Happy Days   \n",
       "tt0076759  Star Wars: Episode IV - A New Hope   \n",
       "tt0077687                          The Hobbit   \n",
       "\n",
       "                                                      Awards  Awards_won  \\\n",
       "imdbID                                                                     \n",
       "tt0038650  Nominated for 5 Oscars. Another 6 wins & 1 nom...           6   \n",
       "tt0062622      Won 1 Oscar. Another 13 wins & 7 nominations.          14   \n",
       "tt0070992  Won 3 Golden Globes. Another 13 wins & 19 nomi...          16   \n",
       "tt0076759    Won 6 Oscars. Another 48 wins & 28 nominations.          54   \n",
       "tt0077687                             1 win & 2 nominations.           1   \n",
       "\n",
       "           Awards_nominated Golden Globe_won Oscar_won Primetime Emmy_won  \\\n",
       "imdbID                                                                      \n",
       "tt0038650                 6                0         0                  0   \n",
       "tt0062622                 7                0         1                  0   \n",
       "tt0070992                19                3         0                  0   \n",
       "tt0076759                28                0         6                  0   \n",
       "tt0077687                 2                0         0                  0   \n",
       "\n",
       "          BAFTA Film Award_nominated Golden Globe_nominated Oscar_nominated  \\\n",
       "imdbID                                                                        \n",
       "tt0038650                          0                      0               5   \n",
       "tt0062622                          0                      0               0   \n",
       "tt0070992                          0                      0               0   \n",
       "tt0076759                          0                      0               0   \n",
       "tt0077687                          0                      0               0   \n",
       "\n",
       "          Primetime Emmy_nominated  \n",
       "imdbID                              \n",
       "tt0038650                        0  \n",
       "tt0062622                        0  \n",
       "tt0070992                        0  \n",
       "tt0076759                        0  \n",
       "tt0077687                        0  "
      ]
     },
     "execution_count": 29,
     "metadata": {},
     "output_type": "execute_result"
    }
   ],
   "source": [
    "result_df = result_df.drop(['Won_num','Nominated_num'], axis =1)   #drop unnecessary columns\n",
    "result_df.head()"
   ]
  },
  {
   "cell_type": "code",
   "execution_count": 30,
   "metadata": {
    "collapsed": true
   },
   "outputs": [],
   "source": [
    "result_df.to_csv('Q4_Part_1.csv', sep=',', index=False)"
   ]
  }
 ],
 "metadata": {
  "anaconda-cloud": {},
  "kernelspec": {
   "display_name": "Python [conda root]",
   "language": "python",
   "name": "conda-root-py"
  },
  "language_info": {
   "codemirror_mode": {
    "name": "ipython",
    "version": 3
   },
   "file_extension": ".py",
   "mimetype": "text/x-python",
   "name": "python",
   "nbconvert_exporter": "python",
   "pygments_lexer": "ipython3",
   "version": "3.5.2"
  }
 },
 "nbformat": 4,
 "nbformat_minor": 1
}
