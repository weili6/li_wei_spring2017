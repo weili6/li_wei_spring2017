{
 "cells": [
  {
   "cell_type": "markdown",
   "metadata": {},
   "source": [
    "# Analysis 3: Mean value of each variable"
   ]
  },
  {
   "cell_type": "code",
   "execution_count": 14,
   "metadata": {
    "collapsed": true
   },
   "outputs": [],
   "source": [
    "import pandas as pd\n",
    "import seaborn as sns\n",
    "import matplotlib.pyplot as plt"
   ]
  },
  {
   "cell_type": "code",
   "execution_count": 15,
   "metadata": {
    "collapsed": true
   },
   "outputs": [],
   "source": [
    "df_15 = pd.read_csv('../../data/2015.csv', sep=',')\n",
    "df_16 = pd.read_csv('../../data/2016.csv', sep=',')"
   ]
  },
  {
   "cell_type": "code",
   "execution_count": 16,
   "metadata": {
    "collapsed": false
   },
   "outputs": [
    {
     "data": {
      "text/html": [
       "<div>\n",
       "<table border=\"1\" class=\"dataframe\">\n",
       "  <thead>\n",
       "    <tr style=\"text-align: right;\">\n",
       "      <th></th>\n",
       "      <th>mean</th>\n",
       "      <th>max</th>\n",
       "      <th>min</th>\n",
       "    </tr>\n",
       "  </thead>\n",
       "  <tbody>\n",
       "    <tr>\n",
       "      <th>Economy (GDP per Capita)</th>\n",
       "      <td>0.953880</td>\n",
       "      <td>1.82427</td>\n",
       "      <td>0</td>\n",
       "    </tr>\n",
       "    <tr>\n",
       "      <th>Family</th>\n",
       "      <td>0.793621</td>\n",
       "      <td>1.18326</td>\n",
       "      <td>0</td>\n",
       "    </tr>\n",
       "    <tr>\n",
       "      <th>Health (Life Expectancy)</th>\n",
       "      <td>0.557619</td>\n",
       "      <td>0.95277</td>\n",
       "      <td>0</td>\n",
       "    </tr>\n",
       "    <tr>\n",
       "      <th>Freedom</th>\n",
       "      <td>0.370994</td>\n",
       "      <td>0.60848</td>\n",
       "      <td>0</td>\n",
       "    </tr>\n",
       "    <tr>\n",
       "      <th>Trust (Government Corruption)</th>\n",
       "      <td>0.137624</td>\n",
       "      <td>0.50521</td>\n",
       "      <td>0</td>\n",
       "    </tr>\n",
       "    <tr>\n",
       "      <th>Generosity</th>\n",
       "      <td>0.242635</td>\n",
       "      <td>0.81971</td>\n",
       "      <td>0</td>\n",
       "    </tr>\n",
       "    <tr>\n",
       "      <th>Dystopia Residual</th>\n",
       "      <td>2.325807</td>\n",
       "      <td>3.83772</td>\n",
       "      <td>0.81789</td>\n",
       "    </tr>\n",
       "  </tbody>\n",
       "</table>\n",
       "</div>"
      ],
      "text/plain": [
       "                                   mean      max      min\n",
       "Economy (GDP per Capita)       0.953880  1.82427        0\n",
       "Family                         0.793621  1.18326        0\n",
       "Health (Life Expectancy)       0.557619  0.95277        0\n",
       "Freedom                        0.370994  0.60848        0\n",
       "Trust (Government Corruption)  0.137624  0.50521        0\n",
       "Generosity                     0.242635  0.81971        0\n",
       "Dystopia Residual              2.325807  3.83772  0.81789"
      ]
     },
     "execution_count": 16,
     "metadata": {},
     "output_type": "execute_result"
    }
   ],
   "source": [
    "df_dist16 = pd.DataFrame(df_16.mean()[4:], columns=['mean'])\n",
    "df_dist16['max'] = df_16.max()[6:]\n",
    "df_dist16['min'] = df_16.min()[6:]\n",
    "df_dist16.to_csv('ana_3_output/csv_3.csv', sep=',', index=True)\n",
    "df_dist16"
   ]
  },
  {
   "cell_type": "code",
   "execution_count": 17,
   "metadata": {
    "collapsed": false
   },
   "outputs": [
    {
     "data": {
      "text/html": [
       "<div>\n",
       "<table border=\"1\" class=\"dataframe\">\n",
       "  <thead>\n",
       "    <tr style=\"text-align: right;\">\n",
       "      <th></th>\n",
       "      <th>mean</th>\n",
       "      <th>max</th>\n",
       "      <th>min</th>\n",
       "    </tr>\n",
       "  </thead>\n",
       "  <tbody>\n",
       "    <tr>\n",
       "      <th>Economy (GDP per Capita)</th>\n",
       "      <td>0.846137</td>\n",
       "      <td>1.69042</td>\n",
       "      <td>0</td>\n",
       "    </tr>\n",
       "    <tr>\n",
       "      <th>Family</th>\n",
       "      <td>0.991046</td>\n",
       "      <td>1.40223</td>\n",
       "      <td>0</td>\n",
       "    </tr>\n",
       "    <tr>\n",
       "      <th>Health (Life Expectancy)</th>\n",
       "      <td>0.630259</td>\n",
       "      <td>1.02525</td>\n",
       "      <td>0</td>\n",
       "    </tr>\n",
       "    <tr>\n",
       "      <th>Freedom</th>\n",
       "      <td>0.428615</td>\n",
       "      <td>0.66973</td>\n",
       "      <td>0</td>\n",
       "    </tr>\n",
       "    <tr>\n",
       "      <th>Trust (Government Corruption)</th>\n",
       "      <td>0.143422</td>\n",
       "      <td>0.55191</td>\n",
       "      <td>0</td>\n",
       "    </tr>\n",
       "    <tr>\n",
       "      <th>Generosity</th>\n",
       "      <td>0.237296</td>\n",
       "      <td>0.79588</td>\n",
       "      <td>0</td>\n",
       "    </tr>\n",
       "    <tr>\n",
       "      <th>Dystopia Residual</th>\n",
       "      <td>2.098977</td>\n",
       "      <td>3.60214</td>\n",
       "      <td>0.32858</td>\n",
       "    </tr>\n",
       "  </tbody>\n",
       "</table>\n",
       "</div>"
      ],
      "text/plain": [
       "                                   mean      max      min\n",
       "Economy (GDP per Capita)       0.846137  1.69042        0\n",
       "Family                         0.991046  1.40223        0\n",
       "Health (Life Expectancy)       0.630259  1.02525        0\n",
       "Freedom                        0.428615  0.66973        0\n",
       "Trust (Government Corruption)  0.143422  0.55191        0\n",
       "Generosity                     0.237296  0.79588        0\n",
       "Dystopia Residual              2.098977  3.60214  0.32858"
      ]
     },
     "execution_count": 17,
     "metadata": {},
     "output_type": "execute_result"
    }
   ],
   "source": [
    "df_dist15 = pd.DataFrame(df_15.mean()[3:], columns=['mean'])\n",
    "df_dist15['max'] = df_15.max()[5:]\n",
    "df_dist15['min'] = df_15.min()[5:]\n",
    "df_dist15.to_csv('ana_3_output/csv_2.csv', sep=',', index=True)\n",
    "df_dist15"
   ]
  },
  {
   "cell_type": "code",
   "execution_count": 18,
   "metadata": {
    "collapsed": false
   },
   "outputs": [
    {
     "data": {
      "text/html": [
       "<div>\n",
       "<table border=\"1\" class=\"dataframe\">\n",
       "  <thead>\n",
       "    <tr style=\"text-align: right;\">\n",
       "      <th></th>\n",
       "      <th>mean_2015</th>\n",
       "      <th>mean_2016</th>\n",
       "      <th>difference(%)</th>\n",
       "    </tr>\n",
       "  </thead>\n",
       "  <tbody>\n",
       "    <tr>\n",
       "      <th>Economy (GDP per Capita)</th>\n",
       "      <td>0.846137</td>\n",
       "      <td>0.953880</td>\n",
       "      <td>12.7</td>\n",
       "    </tr>\n",
       "    <tr>\n",
       "      <th>Family</th>\n",
       "      <td>0.991046</td>\n",
       "      <td>0.793621</td>\n",
       "      <td>-19.9</td>\n",
       "    </tr>\n",
       "    <tr>\n",
       "      <th>Health (Life Expectancy)</th>\n",
       "      <td>0.630259</td>\n",
       "      <td>0.557619</td>\n",
       "      <td>-11.5</td>\n",
       "    </tr>\n",
       "    <tr>\n",
       "      <th>Freedom</th>\n",
       "      <td>0.428615</td>\n",
       "      <td>0.370994</td>\n",
       "      <td>-13.4</td>\n",
       "    </tr>\n",
       "    <tr>\n",
       "      <th>Trust (Government Corruption)</th>\n",
       "      <td>0.143422</td>\n",
       "      <td>0.137624</td>\n",
       "      <td>-4.0</td>\n",
       "    </tr>\n",
       "    <tr>\n",
       "      <th>Generosity</th>\n",
       "      <td>0.237296</td>\n",
       "      <td>0.242635</td>\n",
       "      <td>2.3</td>\n",
       "    </tr>\n",
       "    <tr>\n",
       "      <th>Dystopia Residual</th>\n",
       "      <td>2.098977</td>\n",
       "      <td>2.325807</td>\n",
       "      <td>10.8</td>\n",
       "    </tr>\n",
       "  </tbody>\n",
       "</table>\n",
       "</div>"
      ],
      "text/plain": [
       "                               mean_2015  mean_2016  difference(%)\n",
       "Economy (GDP per Capita)        0.846137   0.953880           12.7\n",
       "Family                          0.991046   0.793621          -19.9\n",
       "Health (Life Expectancy)        0.630259   0.557619          -11.5\n",
       "Freedom                         0.428615   0.370994          -13.4\n",
       "Trust (Government Corruption)   0.143422   0.137624           -4.0\n",
       "Generosity                      0.237296   0.242635            2.3\n",
       "Dystopia Residual               2.098977   2.325807           10.8"
      ]
     },
     "execution_count": 18,
     "metadata": {},
     "output_type": "execute_result"
    }
   ],
   "source": [
    "df_mean = pd.DataFrame(df_dist15['mean']).rename(columns={'mean':'mean_2015'})\n",
    "df_mean['mean_2016'] = df_dist16['mean']\n",
    "df_mean['difference(%)'] = round((df_mean['mean_2016'] - df_mean['mean_2015'])/df_mean['mean_2015']*100, 1)\n",
    "df_mean.to_csv('ana_3_output/csv_1.csv', sep=',', index=True)\n",
    "df_mean"
   ]
  },
  {
   "cell_type": "code",
   "execution_count": 19,
   "metadata": {
    "collapsed": false
   },
   "outputs": [
    {
     "data": {
      "image/png": "[encoded data removed]",
      "text/plain": [
       "<matplotlib.figure.Figure at 0x119f67f98>"
      ]
     },
     "metadata": {},
     "output_type": "display_data"
    }
   ],
   "source": [
    "fig = plt.figure()\n",
    "ax = fig.add_subplot(111)\n",
    "ax2 = ax.twinx()\n",
    "plt.suptitle('Mean of each variable',fontsize = 10)\n",
    "df_mean['mean_2015'].plot(kind='bar', color='yellowgreen', width=0.4, ax=ax, position=1)\n",
    "df_mean['mean_2016'].plot(kind='bar', color='olive', width=0.4,ax=ax2, position=0)\n",
    "\n",
    "ax.set_ylabel('2015')\n",
    "ax2.set_ylabel('2016')\n",
    "plt.savefig('ana_3_output/plot_1.png', bbox_inches='tight')\n",
    "plt.show()"
   ]
  }
 ],
 "metadata": {
  "anaconda-cloud": {},
  "kernelspec": {
   "display_name": "Python [conda root]",
   "language": "python",
   "name": "conda-root-py"
  },
  "language_info": {
   "codemirror_mode": {
    "name": "ipython",
    "version": 3
   },
   "file_extension": ".py",
   "mimetype": "text/x-python",
   "name": "python",
   "nbconvert_exporter": "python",
   "pygments_lexer": "ipython3",
   "version": "3.5.2"
  }
 },
 "nbformat": 4,
 "nbformat_minor": 1
}
