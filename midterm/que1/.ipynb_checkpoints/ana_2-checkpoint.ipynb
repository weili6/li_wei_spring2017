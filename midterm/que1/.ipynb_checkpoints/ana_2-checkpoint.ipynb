{
 "cells": [
  {
   "cell_type": "markdown",
   "metadata": {},
   "source": [
    "# Question 1 - Analysis 2\n",
    "- Analyze the network of Jeff Skilling by calculating the number of mails he sent to each contacts"
   ]
  },
  {
   "cell_type": "code",
   "execution_count": 6,
   "metadata": {
    "collapsed": true
   },
   "outputs": [],
   "source": [
    "import glob \n",
    "import re\n",
    "import collections\n",
    "import matplotlib.pyplot as plt\n",
    "import csv\n",
    "from email.parser import Parser"
   ]
  },
  {
   "cell_type": "code",
   "execution_count": 2,
   "metadata": {
    "collapsed": false
   },
   "outputs": [],
   "source": [
    "filepaths_sent = glob.glob(\"../data/enron/maildir/skilling-j/_sent_mail/*\", recursive = True)\n",
    "to_list = []\n",
    "for name in filepaths_sent:\n",
    "    with open(name, 'r') as file:\n",
    "        data = file.read()\n",
    "        email = Parser().parsestr(data)              # get the recipient's names from all sent mails\n",
    "        to = email['To']\n",
    "        to = ' '.join(to.split())\n",
    "        if(',' in to):\n",
    "            for item in to.split(','):\n",
    "                to_list.append(item.strip())\n",
    "        else:\n",
    "            to_list.append(to)"
   ]
  },
  {
   "cell_type": "code",
   "execution_count": 3,
   "metadata": {
    "collapsed": false
   },
   "outputs": [],
   "source": [
    "enron_list = []\n",
    "others_list = []\n",
    "for addr in to_list:\n",
    "    if(addr.endswith('enron.com')):               # if the email address ends with enron.com, then put into internal recepient list                                \n",
    "        enron_list.append(addr)                   # if not, put it into external recepient list\n",
    "    else:\n",
    "        others_list.append(addr)"
   ]
  },
  {
   "cell_type": "code",
   "execution_count": 4,
   "metadata": {
    "collapsed": false
   },
   "outputs": [],
   "source": [
    "enron_freq = collections.Counter()                # calculate the number of emails sent to each recepient and sort in external and internal list seperately\n",
    "others_freq = collections.Counter()             \n",
    "for addr in enron_list:\n",
    "    enron_freq[addr] += 1\n",
    "for addr in others_list:\n",
    "    others_freq[addr] += 1"
   ]
  },
  {
   "cell_type": "code",
   "execution_count": 7,
   "metadata": {
    "collapsed": false
   },
   "outputs": [],
   "source": [
    "with open('ana_2/ana_2_internal.csv', 'w') as csvfile:             #write data into csv file\n",
    "    writer = csv.writer(csvfile)\n",
    "    writer.writerow(['recepient', 'number of mails'])\n",
    "    for addr in enron_freq.most_common():\n",
    "        writer.writerow([addr[0], addr[1]])\n",
    "with open('ana_2/ana_2_external.csv', 'w') as csvfile:             #write data into csv file\n",
    "    writer = csv.writer(csvfile)\n",
    "    writer.writerow(['recepient', 'number of mails'])\n",
    "    for addr in others_freq.most_common():\n",
    "        writer.writerow([addr[0], addr[1]])"
   ]
  }
 ],
 "metadata": {
  "anaconda-cloud": {},
  "kernelspec": {
   "display_name": "Python [conda root]",
   "language": "python",
   "name": "conda-root-py"
  },
  "language_info": {
   "codemirror_mode": {
    "name": "ipython",
    "version": 3
   },
   "file_extension": ".py",
   "mimetype": "text/x-python",
   "name": "python",
   "nbconvert_exporter": "python",
   "pygments_lexer": "ipython3",
   "version": "3.5.2"
  }
 },
 "nbformat": 4,
 "nbformat_minor": 1
}
