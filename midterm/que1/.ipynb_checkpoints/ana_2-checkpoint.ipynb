{
 "cells": [
  {
   "cell_type": "markdown",
   "metadata": {},
   "source": [
    "# Question 1 - Analysis 2"
   ]
  },
  {
   "cell_type": "code",
   "execution_count": 19,
   "metadata": {
    "collapsed": true
   },
   "outputs": [],
   "source": [
    "import glob \n",
    "import re\n",
    "import collections\n",
    "import matplotlib.pyplot as plt\n",
    "from email.parser import Parser"
   ]
  },
  {
   "cell_type": "code",
   "execution_count": 54,
   "metadata": {
    "collapsed": false
   },
   "outputs": [],
   "source": [
    "filepaths_sent = glob.glob(\"/Users/lizhiming/Desktop/maildir/skilling-j/_sent_mail/*\", recursive = True)\n",
    "to_list = []\n",
    "for name in filepaths_sent:\n",
    "    with open(name, 'r') as file:\n",
    "        data = file.read()\n",
    "        email = Parser().parsestr(data)\n",
    "        to = email['To']\n",
    "        to = ' '.join(to.split())\n",
    "        if(',' in to):\n",
    "            for item in to.split(','):\n",
    "                to_list.append(item.strip())\n",
    "        else:\n",
    "            to_list.append(to)"
   ]
  },
  {
   "cell_type": "code",
   "execution_count": 55,
   "metadata": {
    "collapsed": false
   },
   "outputs": [],
   "source": [
    "enron_list = []\n",
    "others_list = []\n",
    "for addr in to_list:\n",
    "    if(addr.endswith('enron.com')):\n",
    "        enron_list.append(addr)\n",
    "    else:\n",
    "        others_list.append(addr)"
   ]
  },
  {
   "cell_type": "code",
   "execution_count": 56,
   "metadata": {
    "collapsed": false
   },
   "outputs": [
    {
     "name": "stdout",
     "output_type": "stream",
     "text": [
      "amelia.alder@enron.com 8\n",
      "sherri.sera@enron.com 7\n",
      "matthew.scrimshaw@enron.com 6\n",
      "kevin.hannon@enron.com 6\n",
      "david.delainey@enron.com 5\n",
      "john.sherriff@enron.com 4\n",
      "steven.kean@enron.com 4\n",
      "jay.fitzgerald@enron.com 4\n",
      "ben.glisan@enron.com 3\n",
      "greg.whalley@enron.com 3\n",
      "kskilling@ehshouston.org 10\n",
      "markskilling@hotmail.com 8\n",
      "kcompton@kpcb.com 7\n",
      "stanmarek@marekbros.com 6\n",
      "eharris@insightpartners.com 5\n",
      "fredinvt@juno.com 4\n",
      "mike_buttrey@mhbt.com 4\n",
      "johnt@austinventures.com 4\n",
      "dottie@kerr-solutions.com 3\n",
      "chuck.paul@a-closer-look.com 3\n"
     ]
    }
   ],
   "source": [
    "enron_freq = collections.Counter()\n",
    "others_freq = collections.Counter()\n",
    "for addr in enron_list:\n",
    "    enron_freq[addr] += 1\n",
    "for addr in others_list:\n",
    "    others_freq[addr] += 1\n",
    "for addr in enron_freq.most_common()[:10]:\n",
    "    print(addr[0],addr[1])\n",
    "for addr in others_freq.most_common()[:10]:\n",
    "    print(addr[0],addr[1])"
   ]
  },
  {
   "cell_type": "code",
   "execution_count": null,
   "metadata": {
    "collapsed": true
   },
   "outputs": [],
   "source": []
  }
 ],
 "metadata": {
  "anaconda-cloud": {},
  "kernelspec": {
   "display_name": "Python [conda root]",
   "language": "python",
   "name": "conda-root-py"
  },
  "language_info": {
   "codemirror_mode": {
    "name": "ipython",
    "version": 3
   },
   "file_extension": ".py",
   "mimetype": "text/x-python",
   "name": "python",
   "nbconvert_exporter": "python",
   "pygments_lexer": "ipython3",
   "version": "3.5.2"
  }
 },
 "nbformat": 4,
 "nbformat_minor": 1
}
