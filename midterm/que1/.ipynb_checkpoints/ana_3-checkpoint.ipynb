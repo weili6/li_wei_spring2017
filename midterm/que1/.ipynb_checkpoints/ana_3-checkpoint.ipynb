{
 "cells": [
  {
   "cell_type": "markdown",
   "metadata": {},
   "source": [
    "# Question 1 - Analysis 3\n",
    "- calculate the number of mails sent by Kenneth Lay, former chairman and CEO of Enron to each recipient\n",
    "- compare the result with Jeff Skilling's to see if there are some common frequent recipients"
   ]
  },
  {
   "cell_type": "code",
   "execution_count": 7,
   "metadata": {
    "collapsed": true
   },
   "outputs": [],
   "source": [
    "import glob \n",
    "import re\n",
    "import collections\n",
    "import matplotlib.pyplot as plt\n",
    "import csv\n",
    "from email.parser import Parser"
   ]
  },
  {
   "cell_type": "code",
   "execution_count": 8,
   "metadata": {
    "collapsed": false
   },
   "outputs": [],
   "source": [
    "filepaths_sent = glob.glob(\"../data/enron/maildir/lay-k/_sent/*\", recursive = True)\n",
    "to_list = []\n",
    "for name in filepaths_sent:\n",
    "    with open(name, 'r') as file:\n",
    "        data = file.read()\n",
    "        email = Parser().parsestr(data)              # get the recipient's names from all sent mails\n",
    "        to = email['To']\n",
    "        to = ' '.join(to.split())\n",
    "        if(',' in to):\n",
    "            for item in to.split(','):\n",
    "                to_list.append(item.strip())\n",
    "        else:\n",
    "            to_list.append(to)"
   ]
  },
  {
   "cell_type": "code",
   "execution_count": 9,
   "metadata": {
    "collapsed": true
   },
   "outputs": [],
   "source": [
    "enron_list = []\n",
    "others_list = []\n",
    "for addr in to_list:\n",
    "    if(addr.endswith('enron.com')):               # if the email address ends with enron.com, then put into internal recipient list                                \n",
    "        enron_list.append(addr)                   "
   ]
  },
  {
   "cell_type": "code",
   "execution_count": 10,
   "metadata": {
    "collapsed": true
   },
   "outputs": [],
   "source": [
    "enron_freq = collections.Counter()                # calculate the number of emails sent to each recipient and sort             \n",
    "for addr in enron_list:\n",
    "    enron_freq[addr] += 1"
   ]
  },
  {
   "cell_type": "code",
   "execution_count": 11,
   "metadata": {
    "collapsed": false
   },
   "outputs": [],
   "source": [
    "with open('ana_2/ana_2_internal.csv', 'r') as csvfile:             #read data from csv file\n",
    "    reader = csv.reader(csvfile)\n",
    "    next(reader)\n",
    "    addr_list = []\n",
    "    num_list = []\n",
    "    for row in reader:\n",
    "        addr_list.append(row[0])\n",
    "        num_list.append(row[1])"
   ]
  },
  {
   "cell_type": "code",
   "execution_count": 12,
   "metadata": {
    "collapsed": false
   },
   "outputs": [],
   "source": [
    "with open('ana_3/ana_3.csv', 'w') as csvfile:             #write data into csv file\n",
    "    writer = csv.writer(csvfile)\n",
    "    writer.writerow(['recipient', 'number of mails sent by J.Skilling','number of mails sent by K.Lay'])\n",
    "    for addr in enron_freq.most_common():\n",
    "        if(addr[0] in addr_list):\n",
    "            writer.writerow([addr[0], addr[1],num_list[addr_list.index(addr[0])]])"
   ]
  }
 ],
 "metadata": {
  "anaconda-cloud": {},
  "kernelspec": {
   "display_name": "Python [conda root]",
   "language": "python",
   "name": "conda-root-py"
  },
  "language_info": {
   "codemirror_mode": {
    "name": "ipython",
    "version": 3
   },
   "file_extension": ".py",
   "mimetype": "text/x-python",
   "name": "python",
   "nbconvert_exporter": "python",
   "pygments_lexer": "ipython3",
   "version": "3.5.2"
  }
 },
 "nbformat": 4,
 "nbformat_minor": 1
}
