{
 "cells": [
  {
   "cell_type": "markdown",
   "metadata": {},
   "source": [
    "# Question 2 - Analysis 1\n",
    "- get the most frequent words in titles of most viewed articles\n",
    "- in order to know what words really catch readers' eyes when they browse the website"
   ]
  },
  {
   "cell_type": "code",
   "execution_count": 2,
   "metadata": {
    "collapsed": false
   },
   "outputs": [],
   "source": [
    "import json\n",
    "import requests\n",
    "import os\n",
    "import glob\n",
    "import collections\n",
    "import re\n",
    "from nltk.corpus import stopwords                       \n",
    "import matplotlib.pyplot as plt"
   ]
  },
  {
   "cell_type": "markdown",
   "metadata": {},
   "source": [
    "## Next block is for data download, please skip it"
   ]
  },
  {
   "cell_type": "code",
   "execution_count": 42,
   "metadata": {
    "collapsed": false
   },
   "outputs": [],
   "source": [
    "nyt_most_popular_key = os.getenv('auth_key')\n",
    "for i in range(86):\n",
    "    num = i*20\n",
    "    url = 'http://api.nytimes.com/svc/mostpopular/v2/mostviewed/all-sections/7.json?date=2008-01-02&offset='+str(num)+'&api-key='+nyt_most_popular_key\n",
    "    resp = requests.get(url)\n",
    "    data = json.loads(resp.text)\n",
    "    with open('../data/most_viewed/'+str(i+1)+'.json', 'w') as outfile:\n",
    "        json.dump(data, outfile)                        # get the dataset of most viewed articles via NYT API       "
   ]
  },
  {
   "cell_type": "code",
   "execution_count": 3,
   "metadata": {
    "collapsed": false
   },
   "outputs": [],
   "source": [
    "filepaths = glob.glob(\"../data/most_viewed/*.json\", recursive = True)\n",
    "title_list = []\n",
    "for name in filepaths:\n",
    "    with open(name) as file:\n",
    "        data = json.load(file)\n",
    "        for i in range(len(data['results'])):\n",
    "            title = data['results'][i]['title']        # get all the titles from dataset and put them in a list\n",
    "            title_list.append(title)"
   ]
  },
  {
   "cell_type": "code",
   "execution_count": 4,
   "metadata": {
    "collapsed": true
   },
   "outputs": [],
   "source": [
    "def get_words(text):\n",
    "    return re.compile('[A-Za-z]+').findall(text)       # define a function to get all the words from a text"
   ]
  },
  {
   "cell_type": "code",
   "execution_count": 5,
   "metadata": {
    "collapsed": false
   },
   "outputs": [],
   "source": [
    "word_freq = collections.Counter()\n",
    "for title in title_list:\n",
    "    for word in get_words(title):\n",
    "        word = word.lower()\n",
    "        if(word not in stopwords.words('english')):    # use nltk's corpus - stopwords \n",
    "            word_freq[word] += 1                       # use counter to calculate word frequency\n",
    "data = []\n",
    "labels = []\n",
    "for word in word_freq.most_common()[:10]:              # get top 10 words\n",
    "    data.append(word[1])\n",
    "    labels.append(word[0])"
   ]
  },
  {
   "cell_type": "code",
   "execution_count": 11,
   "metadata": {
    "collapsed": false
   },
   "outputs": [
    {
     "data": {
      "text/plain": [
       "<matplotlib.figure.Figure at 0x1138e0240>"
      ]
     },
     "metadata": {},
     "output_type": "display_data"
    },
    {
     "data": {
      "image/png": "[encoded data removed]",
      "text/plain": [
       "<matplotlib.figure.Figure at 0x113bb8a20>"
      ]
     },
     "metadata": {},
     "output_type": "display_data"
    }
   ],
   "source": [
    "plt.figure(figsize=(10,5))                             # use pyplot to plot bar chart\n",
    "plt.suptitle('word frequency vs. word', fontsize=20)\n",
    "plt.ylabel('frequency')\n",
    "plt.xlabel('word')\n",
    "plt.bar(range(len(data)), data, tick_label=labels)\n",
    "plt.savefig('ana_1/ana_1.png')\n",
    "plt.show()  "
   ]
  }
 ],
 "metadata": {
  "anaconda-cloud": {},
  "kernelspec": {
   "display_name": "Python [conda root]",
   "language": "python",
   "name": "conda-root-py"
  },
  "language_info": {
   "codemirror_mode": {
    "name": "ipython",
    "version": 3
   },
   "file_extension": ".py",
   "mimetype": "text/x-python",
   "name": "python",
   "nbconvert_exporter": "python",
   "pygments_lexer": "ipython3",
   "version": "3.5.2"
  }
 },
 "nbformat": 4,
 "nbformat_minor": 1
}
